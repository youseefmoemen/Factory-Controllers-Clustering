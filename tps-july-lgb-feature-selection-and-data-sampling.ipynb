{
 "cells": [
  {
   "cell_type": "code",
   "execution_count": 1,
   "id": "e19919c6",
   "metadata": {
    "execution": {
     "iopub.execute_input": "2022-07-27T14:06:31.992560Z",
     "iopub.status.busy": "2022-07-27T14:06:31.991983Z",
     "iopub.status.idle": "2022-07-27T14:06:33.070550Z",
     "shell.execute_reply": "2022-07-27T14:06:33.069628Z"
    },
    "id": "2ZjkUEnxvmDd",
    "papermill": {
     "duration": 1.090214,
     "end_time": "2022-07-27T14:06:33.073220",
     "exception": false,
     "start_time": "2022-07-27T14:06:31.983006",
     "status": "completed"
    },
    "tags": [],
    "pycharm": {
     "name": "#%%\n"
    }
   },
   "outputs": [],
   "source": [
    "import pandas as pd\n",
    "import numpy as np\n",
    "import matplotlib.pyplot as plt\n",
    "import seaborn as sns"
   ]
  },
  {
   "cell_type": "markdown",
   "id": "ab79d90d",
   "metadata": {
    "papermill": {
     "duration": 0.00582,
     "end_time": "2022-07-27T14:06:33.085659",
     "exception": false,
     "start_time": "2022-07-27T14:06:33.079839",
     "status": "completed"
    },
    "tags": [],
    "pycharm": {
     "name": "#%% md\n"
    }
   },
   "source": [
    "# Some EDA"
   ]
  },
  {
   "cell_type": "code",
   "execution_count": 2,
   "id": "015a9cbe",
   "metadata": {
    "execution": {
     "iopub.execute_input": "2022-07-27T14:06:33.099729Z",
     "iopub.status.busy": "2022-07-27T14:06:33.098545Z",
     "iopub.status.idle": "2022-07-27T14:06:34.145501Z",
     "shell.execute_reply": "2022-07-27T14:06:34.144552Z"
    },
    "id": "BR3gaS8IvrtC",
    "papermill": {
     "duration": 1.056348,
     "end_time": "2022-07-27T14:06:34.147921",
     "exception": false,
     "start_time": "2022-07-27T14:06:33.091573",
     "status": "completed"
    },
    "tags": [],
    "pycharm": {
     "name": "#%%\n"
    }
   },
   "outputs": [],
   "source": [
    "data = pd.read_csv('data.csv')\n",
    "ids = data.id\n",
    "data.drop('id', axis = 1, inplace = True)"
   ]
  },
  {
   "cell_type": "code",
   "execution_count": 3,
   "id": "ea46ae76",
   "metadata": {
    "execution": {
     "iopub.execute_input": "2022-07-27T14:06:34.161619Z",
     "iopub.status.busy": "2022-07-27T14:06:34.161285Z",
     "iopub.status.idle": "2022-07-27T14:06:34.184934Z",
     "shell.execute_reply": "2022-07-27T14:06:34.183509Z"
    },
    "id": "VlN0u3OWwVH9",
    "outputId": "c0d44b15-aba8-4679-b369-3bccf91418b4",
    "papermill": {
     "duration": 0.032989,
     "end_time": "2022-07-27T14:06:34.187133",
     "exception": false,
     "start_time": "2022-07-27T14:06:34.154144",
     "status": "completed"
    },
    "tags": [],
    "pycharm": {
     "name": "#%%\n"
    }
   },
   "outputs": [
    {
     "name": "stdout",
     "output_type": "stream",
     "text": [
      "<class 'pandas.core.frame.DataFrame'>\n",
      "RangeIndex: 98000 entries, 0 to 97999\n",
      "Data columns (total 29 columns):\n",
      " #   Column  Non-Null Count  Dtype  \n",
      "---  ------  --------------  -----  \n",
      " 0   f_00    98000 non-null  float64\n",
      " 1   f_01    98000 non-null  float64\n",
      " 2   f_02    98000 non-null  float64\n",
      " 3   f_03    98000 non-null  float64\n",
      " 4   f_04    98000 non-null  float64\n",
      " 5   f_05    98000 non-null  float64\n",
      " 6   f_06    98000 non-null  float64\n",
      " 7   f_07    98000 non-null  int64  \n",
      " 8   f_08    98000 non-null  int64  \n",
      " 9   f_09    98000 non-null  int64  \n",
      " 10  f_10    98000 non-null  int64  \n",
      " 11  f_11    98000 non-null  int64  \n",
      " 12  f_12    98000 non-null  int64  \n",
      " 13  f_13    98000 non-null  int64  \n",
      " 14  f_14    98000 non-null  float64\n",
      " 15  f_15    98000 non-null  float64\n",
      " 16  f_16    98000 non-null  float64\n",
      " 17  f_17    98000 non-null  float64\n",
      " 18  f_18    98000 non-null  float64\n",
      " 19  f_19    98000 non-null  float64\n",
      " 20  f_20    98000 non-null  float64\n",
      " 21  f_21    98000 non-null  float64\n",
      " 22  f_22    98000 non-null  float64\n",
      " 23  f_23    98000 non-null  float64\n",
      " 24  f_24    98000 non-null  float64\n",
      " 25  f_25    98000 non-null  float64\n",
      " 26  f_26    98000 non-null  float64\n",
      " 27  f_27    98000 non-null  float64\n",
      " 28  f_28    98000 non-null  float64\n",
      "dtypes: float64(22), int64(7)\n",
      "memory usage: 21.7 MB\n"
     ]
    }
   ],
   "source": [
    "data.info()"
   ]
  },
  {
   "cell_type": "code",
   "execution_count": 4,
   "id": "092f7915",
   "metadata": {
    "execution": {
     "iopub.execute_input": "2022-07-27T14:06:34.201517Z",
     "iopub.status.busy": "2022-07-27T14:06:34.201203Z",
     "iopub.status.idle": "2022-07-27T14:06:34.390626Z",
     "shell.execute_reply": "2022-07-27T14:06:34.389904Z"
    },
    "id": "RtpEbO6hwG_b",
    "outputId": "061e9d82-04f8-4b47-82e8-a444015d2fa4",
    "papermill": {
     "duration": 0.198715,
     "end_time": "2022-07-27T14:06:34.392616",
     "exception": false,
     "start_time": "2022-07-27T14:06:34.193901",
     "status": "completed"
    },
    "tags": [],
    "pycharm": {
     "name": "#%%\n"
    }
   },
   "outputs": [
    {
     "data": {
      "text/plain": "        count      mean       std       min       25%       50%        75%  \\\nf_00  98000.0  0.001220  1.002801 -4.732235 -0.675226  0.002022   0.677271   \nf_01  98000.0  0.005580  1.000742 -4.202795 -0.670985  0.006650   0.677746   \nf_02  98000.0 -0.001042  1.001373 -4.377021 -0.672779 -0.000324   0.677086   \nf_03  98000.0 -0.000700  1.000422 -4.010826 -0.672540 -0.003185   0.672097   \nf_04  98000.0 -0.003522  1.003061 -4.535903 -0.682510 -0.003307   0.677589   \nf_05  98000.0 -0.001612  1.000532 -4.300767 -0.675066  0.001024   0.673344   \nf_06  98000.0 -0.003042  0.997434 -4.894525 -0.680421 -0.002053   0.668112   \nf_07  98000.0  5.545918  3.691840  0.000000  3.000000  5.000000   8.000000   \nf_08  98000.0  6.763061  4.152348  0.000000  4.000000  6.000000   9.000000   \nf_09  98000.0  8.193163  5.904919  0.000000  4.000000  7.000000  11.000000   \nf_10  98000.0  8.057878  4.700226  0.000000  5.000000  7.000000  11.000000   \nf_11  98000.0  8.084990  4.197106  0.000000  5.000000  8.000000  11.000000   \nf_12  98000.0  7.076388  4.433308  0.000000  4.000000  6.000000  10.000000   \nf_13  98000.0  6.286102  4.120077  0.000000  3.000000  6.000000   9.000000   \nf_14  98000.0  0.003413  0.998940 -4.377021 -0.671810  0.003536   0.678679   \nf_15  98000.0 -0.002639  1.001096 -4.535903 -0.677757 -0.004299   0.673859   \nf_16  98000.0  0.005404  1.003277 -4.182233 -0.671055  0.006535   0.680903   \nf_17  98000.0  0.001656  1.001258 -4.468930 -0.672635  0.001663   0.673174   \nf_18  98000.0 -0.005399  0.995965 -4.149688 -0.680243 -0.001574   0.666996   \nf_19  98000.0 -0.004513  1.004372 -4.894525 -0.678773 -0.000587   0.672149   \nf_20  98000.0 -0.000515  1.002962 -4.732235 -0.679777 -0.000806   0.675437   \nf_21  98000.0 -0.001670  0.999703 -4.438130 -0.675147  0.000819   0.676881   \nf_22  98000.0 -0.038752  1.477858 -6.873999 -1.022964 -0.056687   0.930158   \nf_23  98000.0 -0.220002  1.494836 -8.234305 -1.203204 -0.219046   0.764690   \nf_24  98000.0  0.166434  1.543014 -7.792363 -0.903385  0.167074   1.217432   \nf_25  98000.0 -0.064309  1.576086 -6.593842 -1.128966 -0.099221   0.987684   \nf_26  98000.0 -0.062540  1.428055 -7.375719 -0.975680 -0.070852   0.843212   \nf_27  98000.0  0.098472  1.305407 -7.335556 -0.746489  0.082230   0.925306   \nf_28  98000.0 -0.230910  1.528476 -6.954151 -1.262606 -0.271319   0.770516   \n\n            max  \nf_00   4.490521  \nf_01   4.324974  \nf_02   4.560247  \nf_03   4.399373  \nf_04   4.050549  \nf_05   4.710316  \nf_06   3.998595  \nf_07  32.000000  \nf_08  30.000000  \nf_09  44.000000  \nf_10  36.000000  \nf_11  28.000000  \nf_12  38.000000  \nf_13  30.000000  \nf_14   4.490521  \nf_15   4.270708  \nf_16   4.157538  \nf_17   4.230849  \nf_18   4.710316  \nf_19   4.560247  \nf_20   4.399373  \nf_21   4.135419  \nf_22   6.517721  \nf_23   6.054831  \nf_24   7.527271  \nf_25   7.544731  \nf_26   7.005608  \nf_27   7.205971  \nf_28   6.977150  ",
      "text/html": "<div>\n<style scoped>\n    .dataframe tbody tr th:only-of-type {\n        vertical-align: middle;\n    }\n\n    .dataframe tbody tr th {\n        vertical-align: top;\n    }\n\n    .dataframe thead th {\n        text-align: right;\n    }\n</style>\n<table border=\"1\" class=\"dataframe\">\n  <thead>\n    <tr style=\"text-align: right;\">\n      <th></th>\n      <th>count</th>\n      <th>mean</th>\n      <th>std</th>\n      <th>min</th>\n      <th>25%</th>\n      <th>50%</th>\n      <th>75%</th>\n      <th>max</th>\n    </tr>\n  </thead>\n  <tbody>\n    <tr>\n      <th>f_00</th>\n      <td>98000.0</td>\n      <td>0.001220</td>\n      <td>1.002801</td>\n      <td>-4.732235</td>\n      <td>-0.675226</td>\n      <td>0.002022</td>\n      <td>0.677271</td>\n      <td>4.490521</td>\n    </tr>\n    <tr>\n      <th>f_01</th>\n      <td>98000.0</td>\n      <td>0.005580</td>\n      <td>1.000742</td>\n      <td>-4.202795</td>\n      <td>-0.670985</td>\n      <td>0.006650</td>\n      <td>0.677746</td>\n      <td>4.324974</td>\n    </tr>\n    <tr>\n      <th>f_02</th>\n      <td>98000.0</td>\n      <td>-0.001042</td>\n      <td>1.001373</td>\n      <td>-4.377021</td>\n      <td>-0.672779</td>\n      <td>-0.000324</td>\n      <td>0.677086</td>\n      <td>4.560247</td>\n    </tr>\n    <tr>\n      <th>f_03</th>\n      <td>98000.0</td>\n      <td>-0.000700</td>\n      <td>1.000422</td>\n      <td>-4.010826</td>\n      <td>-0.672540</td>\n      <td>-0.003185</td>\n      <td>0.672097</td>\n      <td>4.399373</td>\n    </tr>\n    <tr>\n      <th>f_04</th>\n      <td>98000.0</td>\n      <td>-0.003522</td>\n      <td>1.003061</td>\n      <td>-4.535903</td>\n      <td>-0.682510</td>\n      <td>-0.003307</td>\n      <td>0.677589</td>\n      <td>4.050549</td>\n    </tr>\n    <tr>\n      <th>f_05</th>\n      <td>98000.0</td>\n      <td>-0.001612</td>\n      <td>1.000532</td>\n      <td>-4.300767</td>\n      <td>-0.675066</td>\n      <td>0.001024</td>\n      <td>0.673344</td>\n      <td>4.710316</td>\n    </tr>\n    <tr>\n      <th>f_06</th>\n      <td>98000.0</td>\n      <td>-0.003042</td>\n      <td>0.997434</td>\n      <td>-4.894525</td>\n      <td>-0.680421</td>\n      <td>-0.002053</td>\n      <td>0.668112</td>\n      <td>3.998595</td>\n    </tr>\n    <tr>\n      <th>f_07</th>\n      <td>98000.0</td>\n      <td>5.545918</td>\n      <td>3.691840</td>\n      <td>0.000000</td>\n      <td>3.000000</td>\n      <td>5.000000</td>\n      <td>8.000000</td>\n      <td>32.000000</td>\n    </tr>\n    <tr>\n      <th>f_08</th>\n      <td>98000.0</td>\n      <td>6.763061</td>\n      <td>4.152348</td>\n      <td>0.000000</td>\n      <td>4.000000</td>\n      <td>6.000000</td>\n      <td>9.000000</td>\n      <td>30.000000</td>\n    </tr>\n    <tr>\n      <th>f_09</th>\n      <td>98000.0</td>\n      <td>8.193163</td>\n      <td>5.904919</td>\n      <td>0.000000</td>\n      <td>4.000000</td>\n      <td>7.000000</td>\n      <td>11.000000</td>\n      <td>44.000000</td>\n    </tr>\n    <tr>\n      <th>f_10</th>\n      <td>98000.0</td>\n      <td>8.057878</td>\n      <td>4.700226</td>\n      <td>0.000000</td>\n      <td>5.000000</td>\n      <td>7.000000</td>\n      <td>11.000000</td>\n      <td>36.000000</td>\n    </tr>\n    <tr>\n      <th>f_11</th>\n      <td>98000.0</td>\n      <td>8.084990</td>\n      <td>4.197106</td>\n      <td>0.000000</td>\n      <td>5.000000</td>\n      <td>8.000000</td>\n      <td>11.000000</td>\n      <td>28.000000</td>\n    </tr>\n    <tr>\n      <th>f_12</th>\n      <td>98000.0</td>\n      <td>7.076388</td>\n      <td>4.433308</td>\n      <td>0.000000</td>\n      <td>4.000000</td>\n      <td>6.000000</td>\n      <td>10.000000</td>\n      <td>38.000000</td>\n    </tr>\n    <tr>\n      <th>f_13</th>\n      <td>98000.0</td>\n      <td>6.286102</td>\n      <td>4.120077</td>\n      <td>0.000000</td>\n      <td>3.000000</td>\n      <td>6.000000</td>\n      <td>9.000000</td>\n      <td>30.000000</td>\n    </tr>\n    <tr>\n      <th>f_14</th>\n      <td>98000.0</td>\n      <td>0.003413</td>\n      <td>0.998940</td>\n      <td>-4.377021</td>\n      <td>-0.671810</td>\n      <td>0.003536</td>\n      <td>0.678679</td>\n      <td>4.490521</td>\n    </tr>\n    <tr>\n      <th>f_15</th>\n      <td>98000.0</td>\n      <td>-0.002639</td>\n      <td>1.001096</td>\n      <td>-4.535903</td>\n      <td>-0.677757</td>\n      <td>-0.004299</td>\n      <td>0.673859</td>\n      <td>4.270708</td>\n    </tr>\n    <tr>\n      <th>f_16</th>\n      <td>98000.0</td>\n      <td>0.005404</td>\n      <td>1.003277</td>\n      <td>-4.182233</td>\n      <td>-0.671055</td>\n      <td>0.006535</td>\n      <td>0.680903</td>\n      <td>4.157538</td>\n    </tr>\n    <tr>\n      <th>f_17</th>\n      <td>98000.0</td>\n      <td>0.001656</td>\n      <td>1.001258</td>\n      <td>-4.468930</td>\n      <td>-0.672635</td>\n      <td>0.001663</td>\n      <td>0.673174</td>\n      <td>4.230849</td>\n    </tr>\n    <tr>\n      <th>f_18</th>\n      <td>98000.0</td>\n      <td>-0.005399</td>\n      <td>0.995965</td>\n      <td>-4.149688</td>\n      <td>-0.680243</td>\n      <td>-0.001574</td>\n      <td>0.666996</td>\n      <td>4.710316</td>\n    </tr>\n    <tr>\n      <th>f_19</th>\n      <td>98000.0</td>\n      <td>-0.004513</td>\n      <td>1.004372</td>\n      <td>-4.894525</td>\n      <td>-0.678773</td>\n      <td>-0.000587</td>\n      <td>0.672149</td>\n      <td>4.560247</td>\n    </tr>\n    <tr>\n      <th>f_20</th>\n      <td>98000.0</td>\n      <td>-0.000515</td>\n      <td>1.002962</td>\n      <td>-4.732235</td>\n      <td>-0.679777</td>\n      <td>-0.000806</td>\n      <td>0.675437</td>\n      <td>4.399373</td>\n    </tr>\n    <tr>\n      <th>f_21</th>\n      <td>98000.0</td>\n      <td>-0.001670</td>\n      <td>0.999703</td>\n      <td>-4.438130</td>\n      <td>-0.675147</td>\n      <td>0.000819</td>\n      <td>0.676881</td>\n      <td>4.135419</td>\n    </tr>\n    <tr>\n      <th>f_22</th>\n      <td>98000.0</td>\n      <td>-0.038752</td>\n      <td>1.477858</td>\n      <td>-6.873999</td>\n      <td>-1.022964</td>\n      <td>-0.056687</td>\n      <td>0.930158</td>\n      <td>6.517721</td>\n    </tr>\n    <tr>\n      <th>f_23</th>\n      <td>98000.0</td>\n      <td>-0.220002</td>\n      <td>1.494836</td>\n      <td>-8.234305</td>\n      <td>-1.203204</td>\n      <td>-0.219046</td>\n      <td>0.764690</td>\n      <td>6.054831</td>\n    </tr>\n    <tr>\n      <th>f_24</th>\n      <td>98000.0</td>\n      <td>0.166434</td>\n      <td>1.543014</td>\n      <td>-7.792363</td>\n      <td>-0.903385</td>\n      <td>0.167074</td>\n      <td>1.217432</td>\n      <td>7.527271</td>\n    </tr>\n    <tr>\n      <th>f_25</th>\n      <td>98000.0</td>\n      <td>-0.064309</td>\n      <td>1.576086</td>\n      <td>-6.593842</td>\n      <td>-1.128966</td>\n      <td>-0.099221</td>\n      <td>0.987684</td>\n      <td>7.544731</td>\n    </tr>\n    <tr>\n      <th>f_26</th>\n      <td>98000.0</td>\n      <td>-0.062540</td>\n      <td>1.428055</td>\n      <td>-7.375719</td>\n      <td>-0.975680</td>\n      <td>-0.070852</td>\n      <td>0.843212</td>\n      <td>7.005608</td>\n    </tr>\n    <tr>\n      <th>f_27</th>\n      <td>98000.0</td>\n      <td>0.098472</td>\n      <td>1.305407</td>\n      <td>-7.335556</td>\n      <td>-0.746489</td>\n      <td>0.082230</td>\n      <td>0.925306</td>\n      <td>7.205971</td>\n    </tr>\n    <tr>\n      <th>f_28</th>\n      <td>98000.0</td>\n      <td>-0.230910</td>\n      <td>1.528476</td>\n      <td>-6.954151</td>\n      <td>-1.262606</td>\n      <td>-0.271319</td>\n      <td>0.770516</td>\n      <td>6.977150</td>\n    </tr>\n  </tbody>\n</table>\n</div>"
     },
     "execution_count": 4,
     "metadata": {},
     "output_type": "execute_result"
    }
   ],
   "source": [
    "data.describe().T"
   ]
  },
  {
   "cell_type": "code",
   "execution_count": 5,
   "id": "c7f8b4a6",
   "metadata": {
    "execution": {
     "iopub.execute_input": "2022-07-27T14:06:34.407901Z",
     "iopub.status.busy": "2022-07-27T14:06:34.407256Z",
     "iopub.status.idle": "2022-07-27T14:06:45.500815Z",
     "shell.execute_reply": "2022-07-27T14:06:45.499707Z"
    },
    "id": "3DHowjKm518_",
    "outputId": "18677da4-cb63-4bc8-bd95-54e0a84e07df",
    "papermill": {
     "duration": 11.104828,
     "end_time": "2022-07-27T14:06:45.504232",
     "exception": false,
     "start_time": "2022-07-27T14:06:34.399404",
     "status": "completed"
    },
    "tags": [],
    "pycharm": {
     "name": "#%%\n"
    }
   },
   "outputs": [
    {
     "data": {
      "text/plain": "<Figure size 1440x1080 with 29 Axes>",
      "image/png": "[encoded data removed]"
     },
     "metadata": {},
     "output_type": "display_data"
    }
   ],
   "source": [
    "plt.figure(figsize=(20, 15))\n",
    "for idx, col in enumerate(data):\n",
    "  plt.subplot(6, 5, idx+1)\n",
    "  sns.histplot(data[col])\n",
    "plt.show()"
   ]
  },
  {
   "cell_type": "code",
   "execution_count": 6,
   "id": "2fa50876",
   "metadata": {
    "execution": {
     "iopub.execute_input": "2022-07-27T14:06:45.522516Z",
     "iopub.status.busy": "2022-07-27T14:06:45.522135Z",
     "iopub.status.idle": "2022-07-27T14:06:49.066518Z",
     "shell.execute_reply": "2022-07-27T14:06:49.065558Z"
    },
    "id": "8fqMJSqjvx6R",
    "papermill": {
     "duration": 3.55648,
     "end_time": "2022-07-27T14:06:49.069017",
     "exception": false,
     "start_time": "2022-07-27T14:06:45.512537",
     "status": "completed"
    },
    "tags": [],
    "pycharm": {
     "name": "#%%\n"
    }
   },
   "outputs": [],
   "source": [
    "from sklearn.preprocessing import PowerTransformer \n",
    "t1 = PowerTransformer()\n",
    "data = t1.fit_transform(data)"
   ]
  },
  {
   "cell_type": "markdown",
   "id": "2671c87f",
   "metadata": {
    "papermill": {
     "duration": 0.008095,
     "end_time": "2022-07-27T14:06:49.086379",
     "exception": false,
     "start_time": "2022-07-27T14:06:49.078284",
     "status": "completed"
    },
    "tags": [],
    "pycharm": {
     "name": "#%% md\n"
    }
   },
   "source": [
    "# Picking number of clusters"
   ]
  },
  {
   "cell_type": "markdown",
   "id": "15784e91",
   "metadata": {
    "papermill": {
     "duration": 0.007925,
     "end_time": "2022-07-27T14:06:49.102471",
     "exception": false,
     "start_time": "2022-07-27T14:06:49.094546",
     "status": "completed"
    },
    "tags": [],
    "pycharm": {
     "name": "#%% md\n"
    }
   },
   "source": [
    "> Using the  elbow method from the **inertia** and **silhouette_score** \n",
    "we can see from the figure that the optimal number of clusters are either 6 or 7"
   ]
  },
  {
   "cell_type": "code",
   "execution_count": 7,
   "id": "779750e5",
   "metadata": {
    "execution": {
     "iopub.execute_input": "2022-07-27T14:06:49.120527Z",
     "iopub.status.busy": "2022-07-27T14:06:49.120184Z",
     "iopub.status.idle": "2022-07-27T14:21:59.199383Z",
     "shell.execute_reply": "2022-07-27T14:21:59.198342Z"
    },
    "id": "D6ZI4vjUv1xs",
    "papermill": {
     "duration": 910.091444,
     "end_time": "2022-07-27T14:21:59.202056",
     "exception": false,
     "start_time": "2022-07-27T14:06:49.110612",
     "status": "completed"
    },
    "tags": [],
    "pycharm": {
     "name": "#%%\n"
    }
   },
   "outputs": [],
   "source": [
    "from sklearn.cluster import KMeans\n",
    "from sklearn.metrics import silhouette_score\n",
    "inertias = [np.inf]\n",
    "shlts = [-np.inf]\n",
    "for i in range(2, 10+1):\n",
    "  km = KMeans(n_clusters=i, max_iter = 100, n_init = 3)\n",
    "  km.fit(data)\n",
    "  inertias.append(km.inertia_)\n",
    "  shlts.append(silhouette_score(data, km.labels_))"
   ]
  },
  {
   "cell_type": "markdown",
   "id": "1eaed854",
   "metadata": {
    "papermill": {
     "duration": 0.008182,
     "end_time": "2022-07-27T14:21:59.219270",
     "exception": false,
     "start_time": "2022-07-27T14:21:59.211088",
     "status": "completed"
    },
    "tags": [],
    "pycharm": {
     "name": "#%% md\n"
    }
   },
   "source": []
  },
  {
   "cell_type": "code",
   "execution_count": 8,
   "id": "0bc2be4a",
   "metadata": {
    "execution": {
     "iopub.execute_input": "2022-07-27T14:21:59.238151Z",
     "iopub.status.busy": "2022-07-27T14:21:59.237273Z",
     "iopub.status.idle": "2022-07-27T14:21:59.435057Z",
     "shell.execute_reply": "2022-07-27T14:21:59.434162Z"
    },
    "id": "VEFLr8Lbxclv",
    "outputId": "6f069dae-d0d2-418c-c2c3-e9cac2e2b284",
    "papermill": {
     "duration": 0.210248,
     "end_time": "2022-07-27T14:21:59.437890",
     "exception": false,
     "start_time": "2022-07-27T14:21:59.227642",
     "status": "completed"
    },
    "tags": [],
    "pycharm": {
     "name": "#%%\n"
    }
   },
   "outputs": [
    {
     "data": {
      "text/plain": "<Figure size 1152x360 with 1 Axes>",
      "image/png": "[encoded data removed]"
     },
     "metadata": {},
     "output_type": "display_data"
    }
   ],
   "source": [
    "plt.figure(figsize=(16, 5))\n",
    "plt.scatter(range(2, 12), inertias)\n",
    "plt.show()"
   ]
  },
  {
   "cell_type": "code",
   "execution_count": 9,
   "id": "102fbd2b",
   "metadata": {
    "execution": {
     "iopub.execute_input": "2022-07-27T14:21:59.457500Z",
     "iopub.status.busy": "2022-07-27T14:21:59.456839Z",
     "iopub.status.idle": "2022-07-27T14:21:59.640399Z",
     "shell.execute_reply": "2022-07-27T14:21:59.639409Z"
    },
    "id": "1O5WeFaA5M97",
    "outputId": "261f7d48-b698-498e-d7bd-9fb7a5b8ca3c",
    "papermill": {
     "duration": 0.195883,
     "end_time": "2022-07-27T14:21:59.642727",
     "exception": false,
     "start_time": "2022-07-27T14:21:59.446844",
     "status": "completed"
    },
    "tags": [],
    "pycharm": {
     "name": "#%%\n"
    }
   },
   "outputs": [
    {
     "data": {
      "text/plain": "<Figure size 1152x360 with 1 Axes>",
      "image/png": "[encoded data removed]"
     },
     "metadata": {},
     "output_type": "display_data"
    }
   ],
   "source": [
    "plt.figure(figsize=(16, 5))\n",
    "plt.scatter(range(2, 12), shlts)\n",
    "plt.show()"
   ]
  },
  {
   "cell_type": "markdown",
   "id": "19df4bf3",
   "metadata": {
    "papermill": {
     "duration": 0.008746,
     "end_time": "2022-07-27T14:21:59.661453",
     "exception": false,
     "start_time": "2022-07-27T14:21:59.652707",
     "status": "completed"
    },
    "tags": [],
    "pycharm": {
     "name": "#%% md\n"
    }
   },
   "source": [
    "## We are initially run a GMM with 7 clusters "
   ]
  },
  {
   "cell_type": "code",
   "execution_count": 10,
   "id": "be95e0f7",
   "metadata": {
    "execution": {
     "iopub.execute_input": "2022-07-27T14:21:59.680974Z",
     "iopub.status.busy": "2022-07-27T14:21:59.680400Z",
     "iopub.status.idle": "2022-07-27T14:22:14.668781Z",
     "shell.execute_reply": "2022-07-27T14:22:14.667539Z"
    },
    "id": "Wx4WCoWh5RJ8",
    "outputId": "72fbd50b-6ac3-475b-ff52-b3fbcb7cdf75",
    "papermill": {
     "duration": 15.002039,
     "end_time": "2022-07-27T14:22:14.672497",
     "exception": false,
     "start_time": "2022-07-27T14:21:59.670458",
     "status": "completed"
    },
    "tags": [],
    "pycharm": {
     "name": "#%%\n"
    }
   },
   "outputs": [
    {
     "data": {
      "text/plain": "GaussianMixture(max_iter=1000, n_components=7)",
      "text/html": "<style>#sk-container-id-1 {color: black;background-color: white;}#sk-container-id-1 pre{padding: 0;}#sk-container-id-1 div.sk-toggleable {background-color: white;}#sk-container-id-1 label.sk-toggleable__label {cursor: pointer;display: block;width: 100%;margin-bottom: 0;padding: 0.3em;box-sizing: border-box;text-align: center;}#sk-container-id-1 label.sk-toggleable__label-arrow:before {content: \"▸\";float: left;margin-right: 0.25em;color: #696969;}#sk-container-id-1 label.sk-toggleable__label-arrow:hover:before {color: black;}#sk-container-id-1 div.sk-estimator:hover label.sk-toggleable__label-arrow:before {color: black;}#sk-container-id-1 div.sk-toggleable__content {max-height: 0;max-width: 0;overflow: hidden;text-align: left;background-color: #f0f8ff;}#sk-container-id-1 div.sk-toggleable__content pre {margin: 0.2em;color: black;border-radius: 0.25em;background-color: #f0f8ff;}#sk-container-id-1 input.sk-toggleable__control:checked~div.sk-toggleable__content {max-height: 200px;max-width: 100%;overflow: auto;}#sk-container-id-1 input.sk-toggleable__control:checked~label.sk-toggleable__label-arrow:before {content: \"▾\";}#sk-container-id-1 div.sk-estimator input.sk-toggleable__control:checked~label.sk-toggleable__label {background-color: #d4ebff;}#sk-container-id-1 div.sk-label input.sk-toggleable__control:checked~label.sk-toggleable__label {background-color: #d4ebff;}#sk-container-id-1 input.sk-hidden--visually {border: 0;clip: rect(1px 1px 1px 1px);clip: rect(1px, 1px, 1px, 1px);height: 1px;margin: -1px;overflow: hidden;padding: 0;position: absolute;width: 1px;}#sk-container-id-1 div.sk-estimator {font-family: monospace;background-color: #f0f8ff;border: 1px dotted black;border-radius: 0.25em;box-sizing: border-box;margin-bottom: 0.5em;}#sk-container-id-1 div.sk-estimator:hover {background-color: #d4ebff;}#sk-container-id-1 div.sk-parallel-item::after {content: \"\";width: 100%;border-bottom: 1px solid gray;flex-grow: 1;}#sk-container-id-1 div.sk-label:hover label.sk-toggleable__label {background-color: #d4ebff;}#sk-container-id-1 div.sk-serial::before {content: \"\";position: absolute;border-left: 1px solid gray;box-sizing: border-box;top: 0;bottom: 0;left: 50%;z-index: 0;}#sk-container-id-1 div.sk-serial {display: flex;flex-direction: column;align-items: center;background-color: white;padding-right: 0.2em;padding-left: 0.2em;position: relative;}#sk-container-id-1 div.sk-item {position: relative;z-index: 1;}#sk-container-id-1 div.sk-parallel {display: flex;align-items: stretch;justify-content: center;background-color: white;position: relative;}#sk-container-id-1 div.sk-item::before, #sk-container-id-1 div.sk-parallel-item::before {content: \"\";position: absolute;border-left: 1px solid gray;box-sizing: border-box;top: 0;bottom: 0;left: 50%;z-index: -1;}#sk-container-id-1 div.sk-parallel-item {display: flex;flex-direction: column;z-index: 1;position: relative;background-color: white;}#sk-container-id-1 div.sk-parallel-item:first-child::after {align-self: flex-end;width: 50%;}#sk-container-id-1 div.sk-parallel-item:last-child::after {align-self: flex-start;width: 50%;}#sk-container-id-1 div.sk-parallel-item:only-child::after {width: 0;}#sk-container-id-1 div.sk-dashed-wrapped {border: 1px dashed gray;margin: 0 0.4em 0.5em 0.4em;box-sizing: border-box;padding-bottom: 0.4em;background-color: white;}#sk-container-id-1 div.sk-label label {font-family: monospace;font-weight: bold;display: inline-block;line-height: 1.2em;}#sk-container-id-1 div.sk-label-container {text-align: center;}#sk-container-id-1 div.sk-container {/* jupyter's `normalize.less` sets `[hidden] { display: none; }` but bootstrap.min.css set `[hidden] { display: none !important; }` so we also need the `!important` here to be able to override the default hidden behavior on the sphinx rendered scikit-learn.org. See: https://github.com/scikit-learn/scikit-learn/issues/21755 */display: inline-block !important;position: relative;}#sk-container-id-1 div.sk-text-repr-fallback {display: none;}</style><div id=\"sk-container-id-1\" class=\"sk-top-container\"><div class=\"sk-text-repr-fallback\"><pre>GaussianMixture(max_iter=1000, n_components=7)</pre><b>In a Jupyter environment, please rerun this cell to show the HTML representation or trust the notebook. <br />On GitHub, the HTML representation is unable to render, please try loading this page with nbviewer.org.</b></div><div class=\"sk-container\" hidden><div class=\"sk-item\"><div class=\"sk-estimator sk-toggleable\"><input class=\"sk-toggleable__control sk-hidden--visually\" id=\"sk-estimator-id-1\" type=\"checkbox\" checked><label for=\"sk-estimator-id-1\" class=\"sk-toggleable__label sk-toggleable__label-arrow\">GaussianMixture</label><div class=\"sk-toggleable__content\"><pre>GaussianMixture(max_iter=1000, n_components=7)</pre></div></div></div></div></div>"
     },
     "execution_count": 10,
     "metadata": {},
     "output_type": "execute_result"
    }
   ],
   "source": [
    "from sklearn.mixture import GaussianMixture\n",
    "gmm1 = GaussianMixture(n_components = 7, max_iter = 1000,\n",
    "                               covariance_type='full')\n",
    "gmm1.fit(data)"
   ]
  },
  {
   "cell_type": "code",
   "execution_count": 11,
   "id": "b2b7543d",
   "metadata": {
    "execution": {
     "iopub.execute_input": "2022-07-27T14:22:14.709400Z",
     "iopub.status.busy": "2022-07-27T14:22:14.709056Z",
     "iopub.status.idle": "2022-07-27T14:22:15.007907Z",
     "shell.execute_reply": "2022-07-27T14:22:15.006614Z"
    },
    "id": "t2-jZFkeAcYG",
    "papermill": {
     "duration": 0.321762,
     "end_time": "2022-07-27T14:22:15.011367",
     "exception": false,
     "start_time": "2022-07-27T14:22:14.689605",
     "status": "completed"
    },
    "tags": [],
    "pycharm": {
     "name": "#%%\n"
    }
   },
   "outputs": [],
   "source": [
    "pred = gmm1.predict(data)\n",
    "init_predictions = pd.DataFrame(np.c_[ids, pred])\n",
    "init_predictions.rename(columns={0: 'Id', 1: 'Predicted'}, inplace = True)"
   ]
  },
  {
   "cell_type": "code",
   "execution_count": 12,
   "id": "5e853f4f",
   "metadata": {
    "execution": {
     "iopub.execute_input": "2022-07-27T14:22:15.051084Z",
     "iopub.status.busy": "2022-07-27T14:22:15.050522Z",
     "iopub.status.idle": "2022-07-27T14:22:15.356504Z",
     "shell.execute_reply": "2022-07-27T14:22:15.355423Z"
    },
    "id": "4k6fIGbPAlFV",
    "outputId": "7c827d78-9d5a-4aa1-aafb-443133354d21",
    "papermill": {
     "duration": 0.328708,
     "end_time": "2022-07-27T14:22:15.358970",
     "exception": false,
     "start_time": "2022-07-27T14:22:15.030262",
     "status": "completed"
    },
    "tags": [],
    "pycharm": {
     "name": "#%%\n"
    }
   },
   "outputs": [
    {
     "data": {
      "text/plain": "<Figure size 1080x720 with 1 Axes>",
      "image/png": "[encoded data removed]"
     },
     "metadata": {},
     "output_type": "display_data"
    }
   ],
   "source": [
    "plt.figure(figsize = (15, 10))\n",
    "sns.histplot(init_predictions.Predicted)\n",
    "plt.show()"
   ]
  },
  {
   "cell_type": "markdown",
   "id": "caa4adc8",
   "metadata": {
    "papermill": {
     "duration": 0.009284,
     "end_time": "2022-07-27T14:22:15.377796",
     "exception": false,
     "start_time": "2022-07-27T14:22:15.368512",
     "status": "completed"
    },
    "tags": [],
    "pycharm": {
     "name": "#%% md\n"
    }
   },
   "source": [
    "## Now we can pick the most useful instances that the model predict with the heighest probability"
   ]
  },
  {
   "cell_type": "code",
   "execution_count": 13,
   "id": "9b105aa2",
   "metadata": {
    "execution": {
     "iopub.execute_input": "2022-07-27T14:22:15.398826Z",
     "iopub.status.busy": "2022-07-27T14:22:15.398108Z",
     "iopub.status.idle": "2022-07-27T14:22:15.745692Z",
     "shell.execute_reply": "2022-07-27T14:22:15.744436Z"
    },
    "id": "CT0MF8nuApCr",
    "papermill": {
     "duration": 0.361295,
     "end_time": "2022-07-27T14:22:15.748590",
     "exception": false,
     "start_time": "2022-07-27T14:22:15.387295",
     "status": "completed"
    },
    "tags": [],
    "pycharm": {
     "name": "#%%\n"
    }
   },
   "outputs": [],
   "source": [
    "y_pred_prop = gmm1.predict_proba(data)\n",
    "y_pred_certian = y_pred_prop[y_pred_prop > 0.9] "
   ]
  },
  {
   "cell_type": "code",
   "execution_count": 14,
   "id": "22a2eb25",
   "metadata": {
    "execution": {
     "iopub.execute_input": "2022-07-27T14:22:15.784093Z",
     "iopub.status.busy": "2022-07-27T14:22:15.783725Z",
     "iopub.status.idle": "2022-07-27T14:22:15.790294Z",
     "shell.execute_reply": "2022-07-27T14:22:15.789246Z"
    },
    "id": "TTn-5sbdArKL",
    "outputId": "33a8d8c3-521d-4c52-a78f-b069fc710691",
    "papermill": {
     "duration": 0.02459,
     "end_time": "2022-07-27T14:22:15.792445",
     "exception": false,
     "start_time": "2022-07-27T14:22:15.767855",
     "status": "completed"
    },
    "tags": [],
    "pycharm": {
     "name": "#%%\n"
    }
   },
   "outputs": [
    {
     "data": {
      "text/plain": "0.4816530612244898"
     },
     "execution_count": 14,
     "metadata": {},
     "output_type": "execute_result"
    }
   ],
   "source": [
    "y_pred_certian.shape[0] / y_pred_prop.shape[0]"
   ]
  },
  {
   "cell_type": "code",
   "execution_count": 15,
   "id": "ce854ae6",
   "metadata": {
    "execution": {
     "iopub.execute_input": "2022-07-27T14:22:15.813429Z",
     "iopub.status.busy": "2022-07-27T14:22:15.812747Z",
     "iopub.status.idle": "2022-07-27T14:22:15.834277Z",
     "shell.execute_reply": "2022-07-27T14:22:15.833131Z"
    },
    "id": "bt5KISHcAt3x",
    "papermill": {
     "duration": 0.034781,
     "end_time": "2022-07-27T14:22:15.836640",
     "exception": false,
     "start_time": "2022-07-27T14:22:15.801859",
     "status": "completed"
    },
    "tags": [],
    "pycharm": {
     "name": "#%%\n"
    }
   },
   "outputs": [],
   "source": [
    "idxs = np.select((np.sum(y_pred_prop > 0.8, axis = 1) > 0).reshape(1, -1),\n",
    "          np.arange(98000).reshape(1, -1), default = None)\n",
    "idxs = idxs[~np.isnan(idxs.astype(np.float32))].astype(np.int64)"
   ]
  },
  {
   "cell_type": "code",
   "execution_count": 16,
   "id": "74e16cf5",
   "metadata": {
    "execution": {
     "iopub.execute_input": "2022-07-27T14:22:15.857749Z",
     "iopub.status.busy": "2022-07-27T14:22:15.857387Z",
     "iopub.status.idle": "2022-07-27T14:22:16.030566Z",
     "shell.execute_reply": "2022-07-27T14:22:16.029292Z"
    },
    "id": "bexLzzcyAwbM",
    "papermill": {
     "duration": 0.188074,
     "end_time": "2022-07-27T14:22:16.034374",
     "exception": false,
     "start_time": "2022-07-27T14:22:15.846300",
     "status": "completed"
    },
    "tags": [],
    "pycharm": {
     "name": "#%%\n"
    }
   },
   "outputs": [],
   "source": [
    "X_certain = data[idxs]\n",
    "y_certain = gmm1.predict(X_certain)"
   ]
  },
  {
   "cell_type": "markdown",
   "id": "2cdc5de9",
   "metadata": {
    "papermill": {
     "duration": 0.018905,
     "end_time": "2022-07-27T14:22:16.073293",
     "exception": false,
     "start_time": "2022-07-27T14:22:16.054388",
     "status": "completed"
    },
    "tags": [],
    "pycharm": {
     "name": "#%% md\n"
    }
   },
   "source": [
    "# Now run onther GMM on the clean part of the data which allow us to sample a new instances from the distribution"
   ]
  },
  {
   "cell_type": "code",
   "execution_count": 17,
   "id": "02ca5558",
   "metadata": {
    "execution": {
     "iopub.execute_input": "2022-07-27T14:22:16.114459Z",
     "iopub.status.busy": "2022-07-27T14:22:16.113917Z",
     "iopub.status.idle": "2022-07-27T14:22:25.493314Z",
     "shell.execute_reply": "2022-07-27T14:22:25.492092Z"
    },
    "id": "6lTCC5hKBPEG",
    "outputId": "0857b2a7-9ef9-4594-9a2e-dbfb5adfd81d",
    "papermill": {
     "duration": 9.404171,
     "end_time": "2022-07-27T14:22:25.497456",
     "exception": false,
     "start_time": "2022-07-27T14:22:16.093285",
     "status": "completed"
    },
    "tags": [],
    "pycharm": {
     "name": "#%%\n"
    }
   },
   "outputs": [
    {
     "data": {
      "text/plain": "GaussianMixture(max_iter=1000, n_components=7)",
      "text/html": "<style>#sk-container-id-2 {color: black;background-color: white;}#sk-container-id-2 pre{padding: 0;}#sk-container-id-2 div.sk-toggleable {background-color: white;}#sk-container-id-2 label.sk-toggleable__label {cursor: pointer;display: block;width: 100%;margin-bottom: 0;padding: 0.3em;box-sizing: border-box;text-align: center;}#sk-container-id-2 label.sk-toggleable__label-arrow:before {content: \"▸\";float: left;margin-right: 0.25em;color: #696969;}#sk-container-id-2 label.sk-toggleable__label-arrow:hover:before {color: black;}#sk-container-id-2 div.sk-estimator:hover label.sk-toggleable__label-arrow:before {color: black;}#sk-container-id-2 div.sk-toggleable__content {max-height: 0;max-width: 0;overflow: hidden;text-align: left;background-color: #f0f8ff;}#sk-container-id-2 div.sk-toggleable__content pre {margin: 0.2em;color: black;border-radius: 0.25em;background-color: #f0f8ff;}#sk-container-id-2 input.sk-toggleable__control:checked~div.sk-toggleable__content {max-height: 200px;max-width: 100%;overflow: auto;}#sk-container-id-2 input.sk-toggleable__control:checked~label.sk-toggleable__label-arrow:before {content: \"▾\";}#sk-container-id-2 div.sk-estimator input.sk-toggleable__control:checked~label.sk-toggleable__label {background-color: #d4ebff;}#sk-container-id-2 div.sk-label input.sk-toggleable__control:checked~label.sk-toggleable__label {background-color: #d4ebff;}#sk-container-id-2 input.sk-hidden--visually {border: 0;clip: rect(1px 1px 1px 1px);clip: rect(1px, 1px, 1px, 1px);height: 1px;margin: -1px;overflow: hidden;padding: 0;position: absolute;width: 1px;}#sk-container-id-2 div.sk-estimator {font-family: monospace;background-color: #f0f8ff;border: 1px dotted black;border-radius: 0.25em;box-sizing: border-box;margin-bottom: 0.5em;}#sk-container-id-2 div.sk-estimator:hover {background-color: #d4ebff;}#sk-container-id-2 div.sk-parallel-item::after {content: \"\";width: 100%;border-bottom: 1px solid gray;flex-grow: 1;}#sk-container-id-2 div.sk-label:hover label.sk-toggleable__label {background-color: #d4ebff;}#sk-container-id-2 div.sk-serial::before {content: \"\";position: absolute;border-left: 1px solid gray;box-sizing: border-box;top: 0;bottom: 0;left: 50%;z-index: 0;}#sk-container-id-2 div.sk-serial {display: flex;flex-direction: column;align-items: center;background-color: white;padding-right: 0.2em;padding-left: 0.2em;position: relative;}#sk-container-id-2 div.sk-item {position: relative;z-index: 1;}#sk-container-id-2 div.sk-parallel {display: flex;align-items: stretch;justify-content: center;background-color: white;position: relative;}#sk-container-id-2 div.sk-item::before, #sk-container-id-2 div.sk-parallel-item::before {content: \"\";position: absolute;border-left: 1px solid gray;box-sizing: border-box;top: 0;bottom: 0;left: 50%;z-index: -1;}#sk-container-id-2 div.sk-parallel-item {display: flex;flex-direction: column;z-index: 1;position: relative;background-color: white;}#sk-container-id-2 div.sk-parallel-item:first-child::after {align-self: flex-end;width: 50%;}#sk-container-id-2 div.sk-parallel-item:last-child::after {align-self: flex-start;width: 50%;}#sk-container-id-2 div.sk-parallel-item:only-child::after {width: 0;}#sk-container-id-2 div.sk-dashed-wrapped {border: 1px dashed gray;margin: 0 0.4em 0.5em 0.4em;box-sizing: border-box;padding-bottom: 0.4em;background-color: white;}#sk-container-id-2 div.sk-label label {font-family: monospace;font-weight: bold;display: inline-block;line-height: 1.2em;}#sk-container-id-2 div.sk-label-container {text-align: center;}#sk-container-id-2 div.sk-container {/* jupyter's `normalize.less` sets `[hidden] { display: none; }` but bootstrap.min.css set `[hidden] { display: none !important; }` so we also need the `!important` here to be able to override the default hidden behavior on the sphinx rendered scikit-learn.org. See: https://github.com/scikit-learn/scikit-learn/issues/21755 */display: inline-block !important;position: relative;}#sk-container-id-2 div.sk-text-repr-fallback {display: none;}</style><div id=\"sk-container-id-2\" class=\"sk-top-container\"><div class=\"sk-text-repr-fallback\"><pre>GaussianMixture(max_iter=1000, n_components=7)</pre><b>In a Jupyter environment, please rerun this cell to show the HTML representation or trust the notebook. <br />On GitHub, the HTML representation is unable to render, please try loading this page with nbviewer.org.</b></div><div class=\"sk-container\" hidden><div class=\"sk-item\"><div class=\"sk-estimator sk-toggleable\"><input class=\"sk-toggleable__control sk-hidden--visually\" id=\"sk-estimator-id-2\" type=\"checkbox\" checked><label for=\"sk-estimator-id-2\" class=\"sk-toggleable__label sk-toggleable__label-arrow\">GaussianMixture</label><div class=\"sk-toggleable__content\"><pre>GaussianMixture(max_iter=1000, n_components=7)</pre></div></div></div></div></div>"
     },
     "execution_count": 17,
     "metadata": {},
     "output_type": "execute_result"
    }
   ],
   "source": [
    "gmm2 = GaussianMixture(n_components = 7, max_iter = 1000,\n",
    "                               covariance_type='full')\n",
    "gmm2.fit(X_certain)"
   ]
  },
  {
   "cell_type": "code",
   "execution_count": 18,
   "id": "501b8d31",
   "metadata": {
    "execution": {
     "iopub.execute_input": "2022-07-27T14:22:25.540437Z",
     "iopub.status.busy": "2022-07-27T14:22:25.539889Z",
     "iopub.status.idle": "2022-07-27T14:22:25.845962Z",
     "shell.execute_reply": "2022-07-27T14:22:25.844697Z"
    },
    "id": "m1Ui8bayk3kE",
    "papermill": {
     "duration": 0.331626,
     "end_time": "2022-07-27T14:22:25.849974",
     "exception": false,
     "start_time": "2022-07-27T14:22:25.518348",
     "status": "completed"
    },
    "tags": [],
    "pycharm": {
     "name": "#%%\n"
    }
   },
   "outputs": [],
   "source": [
    "pred = gmm2.predict(data)\n",
    "init_predictions_2 = pd.DataFrame(np.c_[ids, pred])\n",
    "init_predictions_2.rename(columns={0: 'Id', 1: 'Predicted'}, inplace = True)"
   ]
  },
  {
   "cell_type": "code",
   "execution_count": 19,
   "id": "8f284d9b",
   "metadata": {
    "execution": {
     "iopub.execute_input": "2022-07-27T14:22:25.894030Z",
     "iopub.status.busy": "2022-07-27T14:22:25.893460Z",
     "iopub.status.idle": "2022-07-27T14:22:26.117625Z",
     "shell.execute_reply": "2022-07-27T14:22:26.116373Z"
    },
    "id": "tgwr4eqtBlBw",
    "papermill": {
     "duration": 0.250581,
     "end_time": "2022-07-27T14:22:26.121996",
     "exception": false,
     "start_time": "2022-07-27T14:22:25.871415",
     "status": "completed"
    },
    "tags": [],
    "pycharm": {
     "name": "#%%\n"
    }
   },
   "outputs": [],
   "source": [
    "X_new, y_new = gmm2.sample(100000)"
   ]
  },
  {
   "cell_type": "code",
   "execution_count": 20,
   "id": "47f6d4b2",
   "metadata": {
    "execution": {
     "iopub.execute_input": "2022-07-27T14:22:26.165536Z",
     "iopub.status.busy": "2022-07-27T14:22:26.164981Z",
     "iopub.status.idle": "2022-07-27T14:22:26.197032Z",
     "shell.execute_reply": "2022-07-27T14:22:26.195757Z"
    },
    "id": "o13pqnBzBrEW",
    "papermill": {
     "duration": 0.05783,
     "end_time": "2022-07-27T14:22:26.200988",
     "exception": false,
     "start_time": "2022-07-27T14:22:26.143158",
     "status": "completed"
    },
    "tags": [],
    "pycharm": {
     "name": "#%%\n"
    }
   },
   "outputs": [],
   "source": [
    "X_full = np.concatenate([X_new, X_certain], axis = 0)\n",
    "y_full = np.concatenate([y_new, y_certain], axis = 0)"
   ]
  },
  {
   "cell_type": "code",
   "execution_count": 21,
   "id": "40b0a1ed",
   "metadata": {
    "execution": {
     "iopub.execute_input": "2022-07-27T14:22:26.234265Z",
     "iopub.status.busy": "2022-07-27T14:22:26.233932Z",
     "iopub.status.idle": "2022-07-27T14:22:26.263976Z",
     "shell.execute_reply": "2022-07-27T14:22:26.263164Z"
    },
    "id": "v0Dtq8glBrmQ",
    "papermill": {
     "duration": 0.044547,
     "end_time": "2022-07-27T14:22:26.266241",
     "exception": false,
     "start_time": "2022-07-27T14:22:26.221694",
     "status": "completed"
    },
    "tags": [],
    "pycharm": {
     "name": "#%%\n"
    }
   },
   "outputs": [],
   "source": [
    "from sklearn.model_selection import train_test_split\n",
    "X_train, X_test, y_train, y_test = train_test_split(X_full, y_full, test_size = 0.1)"
   ]
  },
  {
   "cell_type": "code",
   "execution_count": 22,
   "id": "9e3a8786",
   "metadata": {
    "execution": {
     "iopub.execute_input": "2022-07-27T14:22:26.287867Z",
     "iopub.status.busy": "2022-07-27T14:22:26.287489Z",
     "iopub.status.idle": "2022-07-27T14:23:31.314386Z",
     "shell.execute_reply": "2022-07-27T14:23:31.313346Z"
    },
    "id": "LZIPGd-RBtqg",
    "outputId": "e6764a68-3f12-482b-a9c3-9440fddea4d3",
    "papermill": {
     "duration": 65.040203,
     "end_time": "2022-07-27T14:23:31.316526",
     "exception": false,
     "start_time": "2022-07-27T14:22:26.276323",
     "status": "completed"
    },
    "tags": [],
    "pycharm": {
     "name": "#%%\n"
    }
   },
   "outputs": [
    {
     "name": "stderr",
     "output_type": "stream",
     "text": [
      "/home/youseef/anaconda3/envs/jobs/lib/python3.10/site-packages/lightgbm/sklearn.py:726: UserWarning: 'early_stopping_rounds' argument is deprecated and will be removed in a future release of LightGBM. Pass 'early_stopping()' callback via 'callbacks' argument instead.\n",
      "  _log_warning(\"'early_stopping_rounds' argument is deprecated and will be removed in a future release of LightGBM. \"\n"
     ]
    },
    {
     "name": "stdout",
     "output_type": "stream",
     "text": [
      "[1]\tvalid_0's multi_logloss: 1.63655\n",
      "[2]\tvalid_0's multi_logloss: 1.45487\n",
      "[3]\tvalid_0's multi_logloss: 1.32309\n",
      "[4]\tvalid_0's multi_logloss: 1.21041\n",
      "[5]\tvalid_0's multi_logloss: 1.12095\n",
      "[6]\tvalid_0's multi_logloss: 1.04352\n",
      "[7]\tvalid_0's multi_logloss: 0.979062\n",
      "[8]\tvalid_0's multi_logloss: 0.924334\n",
      "[9]\tvalid_0's multi_logloss: 0.875098\n",
      "[10]\tvalid_0's multi_logloss: 0.830835\n",
      "[11]\tvalid_0's multi_logloss: 0.791416\n",
      "[12]\tvalid_0's multi_logloss: 0.757381\n",
      "[13]\tvalid_0's multi_logloss: 0.727083\n",
      "[14]\tvalid_0's multi_logloss: 0.700525\n",
      "[15]\tvalid_0's multi_logloss: 0.675863\n",
      "[16]\tvalid_0's multi_logloss: 0.652058\n",
      "[17]\tvalid_0's multi_logloss: 0.630258\n",
      "[18]\tvalid_0's multi_logloss: 0.612124\n",
      "[19]\tvalid_0's multi_logloss: 0.593677\n",
      "[20]\tvalid_0's multi_logloss: 0.578216\n",
      "[21]\tvalid_0's multi_logloss: 0.559527\n",
      "[22]\tvalid_0's multi_logloss: 0.545984\n",
      "[23]\tvalid_0's multi_logloss: 0.531812\n",
      "[24]\tvalid_0's multi_logloss: 0.518937\n",
      "[25]\tvalid_0's multi_logloss: 0.505787\n",
      "[26]\tvalid_0's multi_logloss: 0.493243\n",
      "[27]\tvalid_0's multi_logloss: 0.480836\n",
      "[28]\tvalid_0's multi_logloss: 0.470291\n",
      "[29]\tvalid_0's multi_logloss: 0.460677\n",
      "[30]\tvalid_0's multi_logloss: 0.45086\n",
      "[31]\tvalid_0's multi_logloss: 0.443179\n",
      "[32]\tvalid_0's multi_logloss: 0.434336\n",
      "[33]\tvalid_0's multi_logloss: 0.425533\n",
      "[34]\tvalid_0's multi_logloss: 0.418144\n",
      "[35]\tvalid_0's multi_logloss: 0.409713\n",
      "[36]\tvalid_0's multi_logloss: 0.402523\n",
      "[37]\tvalid_0's multi_logloss: 0.396226\n",
      "[38]\tvalid_0's multi_logloss: 0.389133\n",
      "[39]\tvalid_0's multi_logloss: 0.383551\n",
      "[40]\tvalid_0's multi_logloss: 0.377464\n",
      "[41]\tvalid_0's multi_logloss: 0.371987\n",
      "[42]\tvalid_0's multi_logloss: 0.367143\n",
      "[43]\tvalid_0's multi_logloss: 0.36197\n",
      "[44]\tvalid_0's multi_logloss: 0.357766\n",
      "[45]\tvalid_0's multi_logloss: 0.352903\n",
      "[46]\tvalid_0's multi_logloss: 0.348078\n",
      "[47]\tvalid_0's multi_logloss: 0.344392\n",
      "[48]\tvalid_0's multi_logloss: 0.339689\n",
      "[49]\tvalid_0's multi_logloss: 0.335651\n",
      "[50]\tvalid_0's multi_logloss: 0.331836\n",
      "[51]\tvalid_0's multi_logloss: 0.327717\n",
      "[52]\tvalid_0's multi_logloss: 0.323895\n",
      "[53]\tvalid_0's multi_logloss: 0.320225\n",
      "[54]\tvalid_0's multi_logloss: 0.317611\n",
      "[55]\tvalid_0's multi_logloss: 0.314458\n",
      "[56]\tvalid_0's multi_logloss: 0.311116\n",
      "[57]\tvalid_0's multi_logloss: 0.308147\n",
      "[58]\tvalid_0's multi_logloss: 0.305348\n",
      "[59]\tvalid_0's multi_logloss: 0.302254\n",
      "[60]\tvalid_0's multi_logloss: 0.299471\n",
      "[61]\tvalid_0's multi_logloss: 0.296847\n",
      "[62]\tvalid_0's multi_logloss: 0.294407\n",
      "[63]\tvalid_0's multi_logloss: 0.292058\n",
      "[64]\tvalid_0's multi_logloss: 0.289529\n",
      "[65]\tvalid_0's multi_logloss: 0.287427\n",
      "[66]\tvalid_0's multi_logloss: 0.285251\n",
      "[67]\tvalid_0's multi_logloss: 0.283235\n",
      "[68]\tvalid_0's multi_logloss: 0.281183\n",
      "[69]\tvalid_0's multi_logloss: 0.278938\n",
      "[70]\tvalid_0's multi_logloss: 0.276956\n",
      "[71]\tvalid_0's multi_logloss: 0.274721\n",
      "[72]\tvalid_0's multi_logloss: 0.272649\n",
      "[73]\tvalid_0's multi_logloss: 0.270718\n",
      "[74]\tvalid_0's multi_logloss: 0.269027\n",
      "[75]\tvalid_0's multi_logloss: 0.267492\n",
      "[76]\tvalid_0's multi_logloss: 0.266313\n",
      "[77]\tvalid_0's multi_logloss: 0.264778\n",
      "[78]\tvalid_0's multi_logloss: 0.263345\n",
      "[79]\tvalid_0's multi_logloss: 0.262165\n",
      "[80]\tvalid_0's multi_logloss: 0.260771\n",
      "[81]\tvalid_0's multi_logloss: 0.259162\n",
      "[82]\tvalid_0's multi_logloss: 0.257858\n",
      "[83]\tvalid_0's multi_logloss: 0.256609\n",
      "[84]\tvalid_0's multi_logloss: 0.255233\n",
      "[85]\tvalid_0's multi_logloss: 0.254113\n",
      "[86]\tvalid_0's multi_logloss: 0.253288\n",
      "[87]\tvalid_0's multi_logloss: 0.251998\n",
      "[88]\tvalid_0's multi_logloss: 0.250942\n",
      "[89]\tvalid_0's multi_logloss: 0.250182\n",
      "[90]\tvalid_0's multi_logloss: 0.249293\n",
      "[91]\tvalid_0's multi_logloss: 0.248224\n",
      "[92]\tvalid_0's multi_logloss: 0.247421\n",
      "[93]\tvalid_0's multi_logloss: 0.246282\n",
      "[94]\tvalid_0's multi_logloss: 0.245538\n",
      "[95]\tvalid_0's multi_logloss: 0.244413\n",
      "[96]\tvalid_0's multi_logloss: 0.243479\n",
      "[97]\tvalid_0's multi_logloss: 0.242774\n",
      "[98]\tvalid_0's multi_logloss: 0.242143\n",
      "[99]\tvalid_0's multi_logloss: 0.241288\n",
      "[100]\tvalid_0's multi_logloss: 0.240692\n",
      "[101]\tvalid_0's multi_logloss: 0.240133\n",
      "[102]\tvalid_0's multi_logloss: 0.239523\n",
      "[103]\tvalid_0's multi_logloss: 0.238852\n",
      "[104]\tvalid_0's multi_logloss: 0.238177\n",
      "[105]\tvalid_0's multi_logloss: 0.23758\n",
      "[106]\tvalid_0's multi_logloss: 0.237011\n",
      "[107]\tvalid_0's multi_logloss: 0.2363\n",
      "[108]\tvalid_0's multi_logloss: 0.235608\n",
      "[109]\tvalid_0's multi_logloss: 0.235083\n",
      "[110]\tvalid_0's multi_logloss: 0.234507\n",
      "[111]\tvalid_0's multi_logloss: 0.233811\n",
      "[112]\tvalid_0's multi_logloss: 0.233135\n",
      "[113]\tvalid_0's multi_logloss: 0.232644\n",
      "[114]\tvalid_0's multi_logloss: 0.232218\n",
      "[115]\tvalid_0's multi_logloss: 0.231605\n",
      "[116]\tvalid_0's multi_logloss: 0.231003\n",
      "[117]\tvalid_0's multi_logloss: 0.2305\n",
      "[118]\tvalid_0's multi_logloss: 0.229909\n",
      "[119]\tvalid_0's multi_logloss: 0.229556\n",
      "[120]\tvalid_0's multi_logloss: 0.228972\n",
      "[121]\tvalid_0's multi_logloss: 0.228647\n",
      "[122]\tvalid_0's multi_logloss: 0.228191\n",
      "[123]\tvalid_0's multi_logloss: 0.227528\n",
      "[124]\tvalid_0's multi_logloss: 0.227018\n",
      "[125]\tvalid_0's multi_logloss: 0.226506\n",
      "[126]\tvalid_0's multi_logloss: 0.226199\n",
      "[127]\tvalid_0's multi_logloss: 0.225931\n",
      "[128]\tvalid_0's multi_logloss: 0.225561\n",
      "[129]\tvalid_0's multi_logloss: 0.225091\n",
      "[130]\tvalid_0's multi_logloss: 0.224521\n",
      "[131]\tvalid_0's multi_logloss: 0.224104\n",
      "[132]\tvalid_0's multi_logloss: 0.223514\n",
      "[133]\tvalid_0's multi_logloss: 0.223077\n",
      "[134]\tvalid_0's multi_logloss: 0.222457\n",
      "[135]\tvalid_0's multi_logloss: 0.222177\n",
      "[136]\tvalid_0's multi_logloss: 0.222095\n",
      "[137]\tvalid_0's multi_logloss: 0.221506\n",
      "[138]\tvalid_0's multi_logloss: 0.221193\n",
      "[139]\tvalid_0's multi_logloss: 0.220951\n",
      "[140]\tvalid_0's multi_logloss: 0.220695\n",
      "[141]\tvalid_0's multi_logloss: 0.220406\n",
      "[142]\tvalid_0's multi_logloss: 0.22012\n",
      "[143]\tvalid_0's multi_logloss: 0.219666\n",
      "[144]\tvalid_0's multi_logloss: 0.219405\n",
      "[145]\tvalid_0's multi_logloss: 0.219159\n",
      "[146]\tvalid_0's multi_logloss: 0.218925\n",
      "[147]\tvalid_0's multi_logloss: 0.218471\n",
      "[148]\tvalid_0's multi_logloss: 0.218174\n",
      "[149]\tvalid_0's multi_logloss: 0.217918\n",
      "[150]\tvalid_0's multi_logloss: 0.217727\n",
      "[151]\tvalid_0's multi_logloss: 0.217512\n",
      "[152]\tvalid_0's multi_logloss: 0.217285\n",
      "[153]\tvalid_0's multi_logloss: 0.216795\n",
      "[154]\tvalid_0's multi_logloss: 0.216529\n",
      "[155]\tvalid_0's multi_logloss: 0.216271\n",
      "[156]\tvalid_0's multi_logloss: 0.216082\n",
      "[157]\tvalid_0's multi_logloss: 0.215968\n",
      "[158]\tvalid_0's multi_logloss: 0.215676\n",
      "[159]\tvalid_0's multi_logloss: 0.215345\n",
      "[160]\tvalid_0's multi_logloss: 0.215226\n",
      "[161]\tvalid_0's multi_logloss: 0.214824\n",
      "[162]\tvalid_0's multi_logloss: 0.21464\n",
      "[163]\tvalid_0's multi_logloss: 0.214296\n",
      "[164]\tvalid_0's multi_logloss: 0.214188\n",
      "[165]\tvalid_0's multi_logloss: 0.213886\n",
      "[166]\tvalid_0's multi_logloss: 0.213436\n",
      "[167]\tvalid_0's multi_logloss: 0.213058\n",
      "[168]\tvalid_0's multi_logloss: 0.212784\n",
      "[169]\tvalid_0's multi_logloss: 0.212579\n",
      "[170]\tvalid_0's multi_logloss: 0.212461\n",
      "[171]\tvalid_0's multi_logloss: 0.212354\n",
      "[172]\tvalid_0's multi_logloss: 0.212023\n",
      "[173]\tvalid_0's multi_logloss: 0.211875\n",
      "[174]\tvalid_0's multi_logloss: 0.211754\n",
      "[175]\tvalid_0's multi_logloss: 0.211565\n",
      "[176]\tvalid_0's multi_logloss: 0.211423\n",
      "[177]\tvalid_0's multi_logloss: 0.211227\n",
      "[178]\tvalid_0's multi_logloss: 0.210923\n",
      "[179]\tvalid_0's multi_logloss: 0.210704\n",
      "[180]\tvalid_0's multi_logloss: 0.210569\n",
      "[181]\tvalid_0's multi_logloss: 0.210412\n",
      "[182]\tvalid_0's multi_logloss: 0.210175\n",
      "[183]\tvalid_0's multi_logloss: 0.209999\n",
      "[184]\tvalid_0's multi_logloss: 0.209886\n",
      "[185]\tvalid_0's multi_logloss: 0.20944\n",
      "[186]\tvalid_0's multi_logloss: 0.209334\n",
      "[187]\tvalid_0's multi_logloss: 0.209214\n",
      "[188]\tvalid_0's multi_logloss: 0.208928\n",
      "[189]\tvalid_0's multi_logloss: 0.208831\n",
      "[190]\tvalid_0's multi_logloss: 0.208662\n",
      "[191]\tvalid_0's multi_logloss: 0.208471\n",
      "[192]\tvalid_0's multi_logloss: 0.208212\n",
      "[193]\tvalid_0's multi_logloss: 0.207794\n",
      "[194]\tvalid_0's multi_logloss: 0.207581\n",
      "[195]\tvalid_0's multi_logloss: 0.207496\n",
      "[196]\tvalid_0's multi_logloss: 0.207315\n",
      "[197]\tvalid_0's multi_logloss: 0.207105\n",
      "[198]\tvalid_0's multi_logloss: 0.206956\n",
      "[199]\tvalid_0's multi_logloss: 0.206549\n",
      "[200]\tvalid_0's multi_logloss: 0.206485\n",
      "[201]\tvalid_0's multi_logloss: 0.206153\n",
      "[202]\tvalid_0's multi_logloss: 0.206014\n",
      "[203]\tvalid_0's multi_logloss: 0.205779\n",
      "[204]\tvalid_0's multi_logloss: 0.205652\n",
      "[205]\tvalid_0's multi_logloss: 0.205483\n",
      "[206]\tvalid_0's multi_logloss: 0.205294\n",
      "[207]\tvalid_0's multi_logloss: 0.205143\n",
      "[208]\tvalid_0's multi_logloss: 0.204961\n",
      "[209]\tvalid_0's multi_logloss: 0.204779\n",
      "[210]\tvalid_0's multi_logloss: 0.204636\n",
      "[211]\tvalid_0's multi_logloss: 0.204503\n",
      "[212]\tvalid_0's multi_logloss: 0.204416\n",
      "[213]\tvalid_0's multi_logloss: 0.204392\n",
      "[214]\tvalid_0's multi_logloss: 0.204227\n",
      "[215]\tvalid_0's multi_logloss: 0.204014\n",
      "[216]\tvalid_0's multi_logloss: 0.203778\n",
      "[217]\tvalid_0's multi_logloss: 0.203706\n",
      "[218]\tvalid_0's multi_logloss: 0.203549\n",
      "[219]\tvalid_0's multi_logloss: 0.20347\n",
      "[220]\tvalid_0's multi_logloss: 0.203254\n",
      "[221]\tvalid_0's multi_logloss: 0.203145\n",
      "[222]\tvalid_0's multi_logloss: 0.20301\n",
      "[223]\tvalid_0's multi_logloss: 0.202816\n",
      "[224]\tvalid_0's multi_logloss: 0.202667\n",
      "[225]\tvalid_0's multi_logloss: 0.202571\n",
      "[226]\tvalid_0's multi_logloss: 0.202442\n",
      "[227]\tvalid_0's multi_logloss: 0.202344\n",
      "[228]\tvalid_0's multi_logloss: 0.202038\n",
      "[229]\tvalid_0's multi_logloss: 0.201807\n",
      "[230]\tvalid_0's multi_logloss: 0.201698\n",
      "[231]\tvalid_0's multi_logloss: 0.201566\n",
      "[232]\tvalid_0's multi_logloss: 0.201494\n",
      "[233]\tvalid_0's multi_logloss: 0.201396\n",
      "[234]\tvalid_0's multi_logloss: 0.201244\n",
      "[235]\tvalid_0's multi_logloss: 0.201235\n",
      "[236]\tvalid_0's multi_logloss: 0.20123\n",
      "[237]\tvalid_0's multi_logloss: 0.201052\n",
      "[238]\tvalid_0's multi_logloss: 0.200847\n",
      "[239]\tvalid_0's multi_logloss: 0.200695\n",
      "[240]\tvalid_0's multi_logloss: 0.200663\n",
      "[241]\tvalid_0's multi_logloss: 0.200472\n",
      "[242]\tvalid_0's multi_logloss: 0.2003\n",
      "[243]\tvalid_0's multi_logloss: 0.200236\n",
      "[244]\tvalid_0's multi_logloss: 0.200145\n",
      "[245]\tvalid_0's multi_logloss: 0.199919\n",
      "[246]\tvalid_0's multi_logloss: 0.19978\n",
      "[247]\tvalid_0's multi_logloss: 0.199642\n",
      "[248]\tvalid_0's multi_logloss: 0.199541\n",
      "[249]\tvalid_0's multi_logloss: 0.199399\n",
      "[250]\tvalid_0's multi_logloss: 0.199242\n",
      "[251]\tvalid_0's multi_logloss: 0.199098\n",
      "[252]\tvalid_0's multi_logloss: 0.199013\n",
      "[253]\tvalid_0's multi_logloss: 0.199009\n",
      "[254]\tvalid_0's multi_logloss: 0.198881\n",
      "[255]\tvalid_0's multi_logloss: 0.198636\n",
      "[256]\tvalid_0's multi_logloss: 0.198481\n",
      "[257]\tvalid_0's multi_logloss: 0.198424\n",
      "[258]\tvalid_0's multi_logloss: 0.198363\n",
      "[259]\tvalid_0's multi_logloss: 0.198215\n",
      "[260]\tvalid_0's multi_logloss: 0.198169\n",
      "[261]\tvalid_0's multi_logloss: 0.198152\n",
      "[262]\tvalid_0's multi_logloss: 0.198034\n",
      "[263]\tvalid_0's multi_logloss: 0.197929\n",
      "[264]\tvalid_0's multi_logloss: 0.197805\n",
      "[265]\tvalid_0's multi_logloss: 0.197721\n",
      "[266]\tvalid_0's multi_logloss: 0.197714\n",
      "[267]\tvalid_0's multi_logloss: 0.19774\n",
      "[268]\tvalid_0's multi_logloss: 0.197507\n",
      "[269]\tvalid_0's multi_logloss: 0.197378\n",
      "[270]\tvalid_0's multi_logloss: 0.197254\n",
      "[271]\tvalid_0's multi_logloss: 0.197151\n",
      "[272]\tvalid_0's multi_logloss: 0.19708\n",
      "[273]\tvalid_0's multi_logloss: 0.197037\n",
      "[274]\tvalid_0's multi_logloss: 0.196855\n",
      "[275]\tvalid_0's multi_logloss: 0.196694\n",
      "[276]\tvalid_0's multi_logloss: 0.196607\n",
      "[277]\tvalid_0's multi_logloss: 0.196615\n",
      "[278]\tvalid_0's multi_logloss: 0.196482\n",
      "[279]\tvalid_0's multi_logloss: 0.196426\n",
      "[280]\tvalid_0's multi_logloss: 0.196285\n",
      "[281]\tvalid_0's multi_logloss: 0.196192\n",
      "[282]\tvalid_0's multi_logloss: 0.196195\n",
      "[283]\tvalid_0's multi_logloss: 0.19604\n",
      "[284]\tvalid_0's multi_logloss: 0.195943\n",
      "[285]\tvalid_0's multi_logloss: 0.195724\n",
      "[286]\tvalid_0's multi_logloss: 0.195551\n",
      "[287]\tvalid_0's multi_logloss: 0.195532\n",
      "[288]\tvalid_0's multi_logloss: 0.195391\n",
      "[289]\tvalid_0's multi_logloss: 0.195303\n",
      "[290]\tvalid_0's multi_logloss: 0.195162\n",
      "[291]\tvalid_0's multi_logloss: 0.195016\n",
      "[292]\tvalid_0's multi_logloss: 0.194962\n",
      "[293]\tvalid_0's multi_logloss: 0.194864\n",
      "[294]\tvalid_0's multi_logloss: 0.194718\n",
      "[295]\tvalid_0's multi_logloss: 0.194676\n",
      "[296]\tvalid_0's multi_logloss: 0.194481\n",
      "[297]\tvalid_0's multi_logloss: 0.194325\n",
      "[298]\tvalid_0's multi_logloss: 0.194051\n",
      "[299]\tvalid_0's multi_logloss: 0.193981\n",
      "[300]\tvalid_0's multi_logloss: 0.193856\n",
      "[301]\tvalid_0's multi_logloss: 0.193669\n",
      "[302]\tvalid_0's multi_logloss: 0.193627\n",
      "[303]\tvalid_0's multi_logloss: 0.193465\n",
      "[304]\tvalid_0's multi_logloss: 0.193389\n",
      "[305]\tvalid_0's multi_logloss: 0.193331\n",
      "[306]\tvalid_0's multi_logloss: 0.193193\n",
      "[307]\tvalid_0's multi_logloss: 0.193137\n",
      "[308]\tvalid_0's multi_logloss: 0.193108\n",
      "[309]\tvalid_0's multi_logloss: 0.193026\n",
      "[310]\tvalid_0's multi_logloss: 0.192882\n",
      "[311]\tvalid_0's multi_logloss: 0.192733\n",
      "[312]\tvalid_0's multi_logloss: 0.192729\n",
      "[313]\tvalid_0's multi_logloss: 0.192573\n",
      "[314]\tvalid_0's multi_logloss: 0.192465\n",
      "[315]\tvalid_0's multi_logloss: 0.192463\n",
      "[316]\tvalid_0's multi_logloss: 0.192415\n",
      "[317]\tvalid_0's multi_logloss: 0.192345\n",
      "[318]\tvalid_0's multi_logloss: 0.192316\n",
      "[319]\tvalid_0's multi_logloss: 0.192174\n",
      "[320]\tvalid_0's multi_logloss: 0.192072\n",
      "[321]\tvalid_0's multi_logloss: 0.191896\n",
      "[322]\tvalid_0's multi_logloss: 0.191736\n",
      "[323]\tvalid_0's multi_logloss: 0.191669\n",
      "[324]\tvalid_0's multi_logloss: 0.191577\n",
      "[325]\tvalid_0's multi_logloss: 0.191443\n",
      "[326]\tvalid_0's multi_logloss: 0.191327\n",
      "[327]\tvalid_0's multi_logloss: 0.191216\n",
      "[328]\tvalid_0's multi_logloss: 0.191115\n",
      "[329]\tvalid_0's multi_logloss: 0.190903\n",
      "[330]\tvalid_0's multi_logloss: 0.190748\n",
      "[331]\tvalid_0's multi_logloss: 0.190552\n",
      "[332]\tvalid_0's multi_logloss: 0.19044\n",
      "[333]\tvalid_0's multi_logloss: 0.19033\n",
      "[334]\tvalid_0's multi_logloss: 0.190198\n",
      "[335]\tvalid_0's multi_logloss: 0.190141\n",
      "[336]\tvalid_0's multi_logloss: 0.190144\n",
      "[337]\tvalid_0's multi_logloss: 0.190101\n",
      "[338]\tvalid_0's multi_logloss: 0.190007\n",
      "[339]\tvalid_0's multi_logloss: 0.189802\n",
      "[340]\tvalid_0's multi_logloss: 0.189629\n",
      "[341]\tvalid_0's multi_logloss: 0.189636\n",
      "[342]\tvalid_0's multi_logloss: 0.189474\n",
      "[343]\tvalid_0's multi_logloss: 0.189407\n",
      "[344]\tvalid_0's multi_logloss: 0.189323\n",
      "[345]\tvalid_0's multi_logloss: 0.189332\n",
      "[346]\tvalid_0's multi_logloss: 0.189197\n",
      "[347]\tvalid_0's multi_logloss: 0.18905\n",
      "[348]\tvalid_0's multi_logloss: 0.189047\n",
      "[349]\tvalid_0's multi_logloss: 0.188978\n",
      "[350]\tvalid_0's multi_logloss: 0.188928\n",
      "[351]\tvalid_0's multi_logloss: 0.188901\n",
      "[352]\tvalid_0's multi_logloss: 0.188839\n",
      "[353]\tvalid_0's multi_logloss: 0.18882\n",
      "[354]\tvalid_0's multi_logloss: 0.188785\n",
      "[355]\tvalid_0's multi_logloss: 0.188687\n",
      "[356]\tvalid_0's multi_logloss: 0.188651\n",
      "[357]\tvalid_0's multi_logloss: 0.188644\n",
      "[358]\tvalid_0's multi_logloss: 0.188594\n",
      "[359]\tvalid_0's multi_logloss: 0.188484\n",
      "[360]\tvalid_0's multi_logloss: 0.188425\n",
      "[361]\tvalid_0's multi_logloss: 0.18838\n",
      "[362]\tvalid_0's multi_logloss: 0.188313\n",
      "[363]\tvalid_0's multi_logloss: 0.188208\n",
      "[364]\tvalid_0's multi_logloss: 0.188133\n",
      "[365]\tvalid_0's multi_logloss: 0.188087\n",
      "[366]\tvalid_0's multi_logloss: 0.187965\n",
      "[367]\tvalid_0's multi_logloss: 0.187954\n",
      "[368]\tvalid_0's multi_logloss: 0.187858\n",
      "[369]\tvalid_0's multi_logloss: 0.187812\n",
      "[370]\tvalid_0's multi_logloss: 0.187787\n",
      "[371]\tvalid_0's multi_logloss: 0.187729\n",
      "[372]\tvalid_0's multi_logloss: 0.1876\n",
      "[373]\tvalid_0's multi_logloss: 0.18759\n",
      "[374]\tvalid_0's multi_logloss: 0.187446\n",
      "[375]\tvalid_0's multi_logloss: 0.18731\n",
      "[376]\tvalid_0's multi_logloss: 0.187129\n",
      "[377]\tvalid_0's multi_logloss: 0.186996\n",
      "[378]\tvalid_0's multi_logloss: 0.186922\n",
      "[379]\tvalid_0's multi_logloss: 0.186965\n",
      "[380]\tvalid_0's multi_logloss: 0.186875\n",
      "[381]\tvalid_0's multi_logloss: 0.186785\n",
      "[382]\tvalid_0's multi_logloss: 0.186715\n",
      "[383]\tvalid_0's multi_logloss: 0.186733\n",
      "[384]\tvalid_0's multi_logloss: 0.186729\n",
      "[385]\tvalid_0's multi_logloss: 0.186741\n",
      "[386]\tvalid_0's multi_logloss: 0.186632\n",
      "[387]\tvalid_0's multi_logloss: 0.186598\n",
      "[388]\tvalid_0's multi_logloss: 0.186566\n",
      "[389]\tvalid_0's multi_logloss: 0.186469\n",
      "[390]\tvalid_0's multi_logloss: 0.186343\n",
      "[391]\tvalid_0's multi_logloss: 0.186295\n",
      "[392]\tvalid_0's multi_logloss: 0.186304\n",
      "[393]\tvalid_0's multi_logloss: 0.186295\n",
      "[394]\tvalid_0's multi_logloss: 0.186285\n",
      "[395]\tvalid_0's multi_logloss: 0.186202\n",
      "[396]\tvalid_0's multi_logloss: 0.186155\n",
      "[397]\tvalid_0's multi_logloss: 0.186075\n",
      "[398]\tvalid_0's multi_logloss: 0.186013\n",
      "[399]\tvalid_0's multi_logloss: 0.185966\n",
      "[400]\tvalid_0's multi_logloss: 0.18584\n",
      "[401]\tvalid_0's multi_logloss: 0.185824\n",
      "[402]\tvalid_0's multi_logloss: 0.185845\n",
      "[403]\tvalid_0's multi_logloss: 0.185807\n",
      "[404]\tvalid_0's multi_logloss: 0.185816\n",
      "[405]\tvalid_0's multi_logloss: 0.1857\n",
      "[406]\tvalid_0's multi_logloss: 0.185631\n",
      "[407]\tvalid_0's multi_logloss: 0.185695\n",
      "[408]\tvalid_0's multi_logloss: 0.185694\n",
      "[409]\tvalid_0's multi_logloss: 0.185599\n",
      "[410]\tvalid_0's multi_logloss: 0.18549\n",
      "[411]\tvalid_0's multi_logloss: 0.185363\n",
      "[412]\tvalid_0's multi_logloss: 0.185247\n",
      "[413]\tvalid_0's multi_logloss: 0.18516\n",
      "[414]\tvalid_0's multi_logloss: 0.185064\n",
      "[415]\tvalid_0's multi_logloss: 0.185017\n",
      "[416]\tvalid_0's multi_logloss: 0.185031\n",
      "[417]\tvalid_0's multi_logloss: 0.185024\n",
      "[418]\tvalid_0's multi_logloss: 0.185036\n",
      "[419]\tvalid_0's multi_logloss: 0.184972\n",
      "[420]\tvalid_0's multi_logloss: 0.184947\n",
      "[421]\tvalid_0's multi_logloss: 0.185015\n",
      "[422]\tvalid_0's multi_logloss: 0.184915\n",
      "[423]\tvalid_0's multi_logloss: 0.185002\n",
      "[424]\tvalid_0's multi_logloss: 0.185071\n",
      "[425]\tvalid_0's multi_logloss: 0.185135\n",
      "[426]\tvalid_0's multi_logloss: 0.185099\n",
      "[427]\tvalid_0's multi_logloss: 0.185042\n",
      "[428]\tvalid_0's multi_logloss: 0.184956\n",
      "[429]\tvalid_0's multi_logloss: 0.184942\n",
      "[430]\tvalid_0's multi_logloss: 0.18491\n",
      "[431]\tvalid_0's multi_logloss: 0.184909\n",
      "[432]\tvalid_0's multi_logloss: 0.184926\n",
      "[433]\tvalid_0's multi_logloss: 0.184962\n",
      "[434]\tvalid_0's multi_logloss: 0.184901\n",
      "[435]\tvalid_0's multi_logloss: 0.184811\n",
      "[436]\tvalid_0's multi_logloss: 0.184768\n",
      "[437]\tvalid_0's multi_logloss: 0.184722\n",
      "[438]\tvalid_0's multi_logloss: 0.184709\n",
      "[439]\tvalid_0's multi_logloss: 0.184708\n",
      "[440]\tvalid_0's multi_logloss: 0.184713\n",
      "[441]\tvalid_0's multi_logloss: 0.184679\n",
      "[442]\tvalid_0's multi_logloss: 0.184647\n",
      "[443]\tvalid_0's multi_logloss: 0.184689\n",
      "[444]\tvalid_0's multi_logloss: 0.184599\n",
      "[445]\tvalid_0's multi_logloss: 0.184568\n",
      "[446]\tvalid_0's multi_logloss: 0.184538\n",
      "[447]\tvalid_0's multi_logloss: 0.184524\n",
      "[448]\tvalid_0's multi_logloss: 0.184556\n",
      "[449]\tvalid_0's multi_logloss: 0.184444\n",
      "[450]\tvalid_0's multi_logloss: 0.184424\n",
      "[451]\tvalid_0's multi_logloss: 0.184374\n",
      "[452]\tvalid_0's multi_logloss: 0.184343\n",
      "[453]\tvalid_0's multi_logloss: 0.184297\n",
      "[454]\tvalid_0's multi_logloss: 0.184294\n",
      "[455]\tvalid_0's multi_logloss: 0.184267\n",
      "[456]\tvalid_0's multi_logloss: 0.184237\n",
      "[457]\tvalid_0's multi_logloss: 0.184177\n",
      "[458]\tvalid_0's multi_logloss: 0.184161\n",
      "[459]\tvalid_0's multi_logloss: 0.184044\n",
      "[460]\tvalid_0's multi_logloss: 0.184017\n",
      "[461]\tvalid_0's multi_logloss: 0.184003\n",
      "[462]\tvalid_0's multi_logloss: 0.184007\n",
      "[463]\tvalid_0's multi_logloss: 0.183981\n",
      "[464]\tvalid_0's multi_logloss: 0.183968\n",
      "[465]\tvalid_0's multi_logloss: 0.183922\n",
      "[466]\tvalid_0's multi_logloss: 0.183856\n",
      "[467]\tvalid_0's multi_logloss: 0.183876\n",
      "[468]\tvalid_0's multi_logloss: 0.183845\n",
      "[469]\tvalid_0's multi_logloss: 0.183858\n",
      "[470]\tvalid_0's multi_logloss: 0.183743\n",
      "[471]\tvalid_0's multi_logloss: 0.183723\n",
      "[472]\tvalid_0's multi_logloss: 0.183679\n",
      "[473]\tvalid_0's multi_logloss: 0.183697\n",
      "[474]\tvalid_0's multi_logloss: 0.183682\n",
      "[475]\tvalid_0's multi_logloss: 0.183631\n",
      "[476]\tvalid_0's multi_logloss: 0.183606\n",
      "[477]\tvalid_0's multi_logloss: 0.183551\n",
      "[478]\tvalid_0's multi_logloss: 0.183527\n",
      "[479]\tvalid_0's multi_logloss: 0.183517\n",
      "[480]\tvalid_0's multi_logloss: 0.183413\n",
      "[481]\tvalid_0's multi_logloss: 0.183373\n",
      "[482]\tvalid_0's multi_logloss: 0.183368\n",
      "[483]\tvalid_0's multi_logloss: 0.183299\n",
      "[484]\tvalid_0's multi_logloss: 0.183265\n",
      "[485]\tvalid_0's multi_logloss: 0.183242\n",
      "[486]\tvalid_0's multi_logloss: 0.183197\n",
      "[487]\tvalid_0's multi_logloss: 0.183176\n",
      "[488]\tvalid_0's multi_logloss: 0.183223\n",
      "[489]\tvalid_0's multi_logloss: 0.183207\n",
      "[490]\tvalid_0's multi_logloss: 0.183178\n",
      "[491]\tvalid_0's multi_logloss: 0.183153\n",
      "[492]\tvalid_0's multi_logloss: 0.183127\n",
      "[493]\tvalid_0's multi_logloss: 0.183131\n",
      "[494]\tvalid_0's multi_logloss: 0.183145\n",
      "[495]\tvalid_0's multi_logloss: 0.183085\n",
      "[496]\tvalid_0's multi_logloss: 0.183064\n",
      "[497]\tvalid_0's multi_logloss: 0.183059\n",
      "[498]\tvalid_0's multi_logloss: 0.183067\n",
      "[499]\tvalid_0's multi_logloss: 0.183022\n",
      "[500]\tvalid_0's multi_logloss: 0.182983\n",
      "[501]\tvalid_0's multi_logloss: 0.18297\n",
      "[502]\tvalid_0's multi_logloss: 0.182987\n",
      "[503]\tvalid_0's multi_logloss: 0.18296\n",
      "[504]\tvalid_0's multi_logloss: 0.182969\n",
      "[505]\tvalid_0's multi_logloss: 0.182959\n",
      "[506]\tvalid_0's multi_logloss: 0.182907\n",
      "[507]\tvalid_0's multi_logloss: 0.182897\n",
      "[508]\tvalid_0's multi_logloss: 0.182908\n",
      "[509]\tvalid_0's multi_logloss: 0.182912\n",
      "[510]\tvalid_0's multi_logloss: 0.182949\n",
      "[511]\tvalid_0's multi_logloss: 0.182894\n",
      "[512]\tvalid_0's multi_logloss: 0.182856\n",
      "[513]\tvalid_0's multi_logloss: 0.182812\n",
      "[514]\tvalid_0's multi_logloss: 0.182793\n",
      "[515]\tvalid_0's multi_logloss: 0.182871\n",
      "[516]\tvalid_0's multi_logloss: 0.182941\n",
      "[517]\tvalid_0's multi_logloss: 0.182921\n",
      "[518]\tvalid_0's multi_logloss: 0.182912\n",
      "[519]\tvalid_0's multi_logloss: 0.182937\n",
      "[520]\tvalid_0's multi_logloss: 0.182878\n",
      "[521]\tvalid_0's multi_logloss: 0.182974\n",
      "[522]\tvalid_0's multi_logloss: 0.182932\n",
      "[523]\tvalid_0's multi_logloss: 0.182927\n",
      "[524]\tvalid_0's multi_logloss: 0.182883\n",
      "[525]\tvalid_0's multi_logloss: 0.182869\n",
      "[526]\tvalid_0's multi_logloss: 0.182817\n",
      "[527]\tvalid_0's multi_logloss: 0.182767\n",
      "[528]\tvalid_0's multi_logloss: 0.182772\n",
      "[529]\tvalid_0's multi_logloss: 0.182756\n",
      "[530]\tvalid_0's multi_logloss: 0.182742\n",
      "[531]\tvalid_0's multi_logloss: 0.182736\n",
      "[532]\tvalid_0's multi_logloss: 0.182716\n",
      "[533]\tvalid_0's multi_logloss: 0.182715\n",
      "[534]\tvalid_0's multi_logloss: 0.182763\n",
      "[535]\tvalid_0's multi_logloss: 0.1828\n",
      "[536]\tvalid_0's multi_logloss: 0.18278\n",
      "[537]\tvalid_0's multi_logloss: 0.182789\n",
      "[538]\tvalid_0's multi_logloss: 0.182714\n",
      "[539]\tvalid_0's multi_logloss: 0.182698\n",
      "[540]\tvalid_0's multi_logloss: 0.18266\n",
      "[541]\tvalid_0's multi_logloss: 0.182687\n",
      "[542]\tvalid_0's multi_logloss: 0.182609\n",
      "[543]\tvalid_0's multi_logloss: 0.182536\n",
      "[544]\tvalid_0's multi_logloss: 0.182536\n",
      "[545]\tvalid_0's multi_logloss: 0.182595\n",
      "[546]\tvalid_0's multi_logloss: 0.182604\n",
      "[547]\tvalid_0's multi_logloss: 0.182633\n",
      "[548]\tvalid_0's multi_logloss: 0.182635\n",
      "[549]\tvalid_0's multi_logloss: 0.182655\n",
      "[550]\tvalid_0's multi_logloss: 0.182623\n",
      "[551]\tvalid_0's multi_logloss: 0.182615\n",
      "[552]\tvalid_0's multi_logloss: 0.182648\n",
      "[553]\tvalid_0's multi_logloss: 0.182699\n",
      "[554]\tvalid_0's multi_logloss: 0.182707\n",
      "[555]\tvalid_0's multi_logloss: 0.182682\n",
      "[556]\tvalid_0's multi_logloss: 0.182652\n",
      "[557]\tvalid_0's multi_logloss: 0.182642\n",
      "[558]\tvalid_0's multi_logloss: 0.182511\n",
      "[559]\tvalid_0's multi_logloss: 0.182504\n",
      "[560]\tvalid_0's multi_logloss: 0.182513\n",
      "[561]\tvalid_0's multi_logloss: 0.182611\n",
      "[562]\tvalid_0's multi_logloss: 0.182617\n",
      "[563]\tvalid_0's multi_logloss: 0.182559\n",
      "[564]\tvalid_0's multi_logloss: 0.18256\n",
      "[565]\tvalid_0's multi_logloss: 0.182477\n",
      "[566]\tvalid_0's multi_logloss: 0.182442\n",
      "[567]\tvalid_0's multi_logloss: 0.182459\n",
      "[568]\tvalid_0's multi_logloss: 0.182416\n",
      "[569]\tvalid_0's multi_logloss: 0.18241\n",
      "[570]\tvalid_0's multi_logloss: 0.182337\n",
      "[571]\tvalid_0's multi_logloss: 0.18229\n",
      "[572]\tvalid_0's multi_logloss: 0.182324\n",
      "[573]\tvalid_0's multi_logloss: 0.182242\n",
      "[574]\tvalid_0's multi_logloss: 0.182206\n",
      "[575]\tvalid_0's multi_logloss: 0.182197\n",
      "[576]\tvalid_0's multi_logloss: 0.182138\n",
      "[577]\tvalid_0's multi_logloss: 0.182161\n",
      "[578]\tvalid_0's multi_logloss: 0.182178\n",
      "[579]\tvalid_0's multi_logloss: 0.182129\n",
      "[580]\tvalid_0's multi_logloss: 0.182109\n",
      "[581]\tvalid_0's multi_logloss: 0.182185\n",
      "[582]\tvalid_0's multi_logloss: 0.182227\n",
      "[583]\tvalid_0's multi_logloss: 0.182143\n",
      "[584]\tvalid_0's multi_logloss: 0.18213\n",
      "[585]\tvalid_0's multi_logloss: 0.18214\n",
      "[586]\tvalid_0's multi_logloss: 0.182125\n",
      "[587]\tvalid_0's multi_logloss: 0.182078\n",
      "[588]\tvalid_0's multi_logloss: 0.18209\n",
      "[589]\tvalid_0's multi_logloss: 0.182023\n",
      "[590]\tvalid_0's multi_logloss: 0.182034\n",
      "[591]\tvalid_0's multi_logloss: 0.182077\n",
      "[592]\tvalid_0's multi_logloss: 0.182062\n",
      "[593]\tvalid_0's multi_logloss: 0.182059\n",
      "[594]\tvalid_0's multi_logloss: 0.182003\n",
      "[595]\tvalid_0's multi_logloss: 0.182073\n",
      "[596]\tvalid_0's multi_logloss: 0.18213\n",
      "[597]\tvalid_0's multi_logloss: 0.182134\n",
      "[598]\tvalid_0's multi_logloss: 0.182054\n",
      "[599]\tvalid_0's multi_logloss: 0.182075\n",
      "[600]\tvalid_0's multi_logloss: 0.182068\n",
      "[601]\tvalid_0's multi_logloss: 0.182085\n",
      "[602]\tvalid_0's multi_logloss: 0.182034\n",
      "[603]\tvalid_0's multi_logloss: 0.182016\n",
      "[604]\tvalid_0's multi_logloss: 0.182017\n",
      "[605]\tvalid_0's multi_logloss: 0.18202\n",
      "[606]\tvalid_0's multi_logloss: 0.182022\n",
      "[607]\tvalid_0's multi_logloss: 0.182037\n",
      "[608]\tvalid_0's multi_logloss: 0.182046\n",
      "[609]\tvalid_0's multi_logloss: 0.182054\n",
      "[610]\tvalid_0's multi_logloss: 0.182052\n",
      "[611]\tvalid_0's multi_logloss: 0.182053\n",
      "[612]\tvalid_0's multi_logloss: 0.182064\n",
      "[613]\tvalid_0's multi_logloss: 0.182064\n",
      "[614]\tvalid_0's multi_logloss: 0.182084\n"
     ]
    },
    {
     "data": {
      "text/plain": "LGBMClassifier(n_estimators=10000)",
      "text/html": "<style>#sk-container-id-3 {color: black;background-color: white;}#sk-container-id-3 pre{padding: 0;}#sk-container-id-3 div.sk-toggleable {background-color: white;}#sk-container-id-3 label.sk-toggleable__label {cursor: pointer;display: block;width: 100%;margin-bottom: 0;padding: 0.3em;box-sizing: border-box;text-align: center;}#sk-container-id-3 label.sk-toggleable__label-arrow:before {content: \"▸\";float: left;margin-right: 0.25em;color: #696969;}#sk-container-id-3 label.sk-toggleable__label-arrow:hover:before {color: black;}#sk-container-id-3 div.sk-estimator:hover label.sk-toggleable__label-arrow:before {color: black;}#sk-container-id-3 div.sk-toggleable__content {max-height: 0;max-width: 0;overflow: hidden;text-align: left;background-color: #f0f8ff;}#sk-container-id-3 div.sk-toggleable__content pre {margin: 0.2em;color: black;border-radius: 0.25em;background-color: #f0f8ff;}#sk-container-id-3 input.sk-toggleable__control:checked~div.sk-toggleable__content {max-height: 200px;max-width: 100%;overflow: auto;}#sk-container-id-3 input.sk-toggleable__control:checked~label.sk-toggleable__label-arrow:before {content: \"▾\";}#sk-container-id-3 div.sk-estimator input.sk-toggleable__control:checked~label.sk-toggleable__label {background-color: #d4ebff;}#sk-container-id-3 div.sk-label input.sk-toggleable__control:checked~label.sk-toggleable__label {background-color: #d4ebff;}#sk-container-id-3 input.sk-hidden--visually {border: 0;clip: rect(1px 1px 1px 1px);clip: rect(1px, 1px, 1px, 1px);height: 1px;margin: -1px;overflow: hidden;padding: 0;position: absolute;width: 1px;}#sk-container-id-3 div.sk-estimator {font-family: monospace;background-color: #f0f8ff;border: 1px dotted black;border-radius: 0.25em;box-sizing: border-box;margin-bottom: 0.5em;}#sk-container-id-3 div.sk-estimator:hover {background-color: #d4ebff;}#sk-container-id-3 div.sk-parallel-item::after {content: \"\";width: 100%;border-bottom: 1px solid gray;flex-grow: 1;}#sk-container-id-3 div.sk-label:hover label.sk-toggleable__label {background-color: #d4ebff;}#sk-container-id-3 div.sk-serial::before {content: \"\";position: absolute;border-left: 1px solid gray;box-sizing: border-box;top: 0;bottom: 0;left: 50%;z-index: 0;}#sk-container-id-3 div.sk-serial {display: flex;flex-direction: column;align-items: center;background-color: white;padding-right: 0.2em;padding-left: 0.2em;position: relative;}#sk-container-id-3 div.sk-item {position: relative;z-index: 1;}#sk-container-id-3 div.sk-parallel {display: flex;align-items: stretch;justify-content: center;background-color: white;position: relative;}#sk-container-id-3 div.sk-item::before, #sk-container-id-3 div.sk-parallel-item::before {content: \"\";position: absolute;border-left: 1px solid gray;box-sizing: border-box;top: 0;bottom: 0;left: 50%;z-index: -1;}#sk-container-id-3 div.sk-parallel-item {display: flex;flex-direction: column;z-index: 1;position: relative;background-color: white;}#sk-container-id-3 div.sk-parallel-item:first-child::after {align-self: flex-end;width: 50%;}#sk-container-id-3 div.sk-parallel-item:last-child::after {align-self: flex-start;width: 50%;}#sk-container-id-3 div.sk-parallel-item:only-child::after {width: 0;}#sk-container-id-3 div.sk-dashed-wrapped {border: 1px dashed gray;margin: 0 0.4em 0.5em 0.4em;box-sizing: border-box;padding-bottom: 0.4em;background-color: white;}#sk-container-id-3 div.sk-label label {font-family: monospace;font-weight: bold;display: inline-block;line-height: 1.2em;}#sk-container-id-3 div.sk-label-container {text-align: center;}#sk-container-id-3 div.sk-container {/* jupyter's `normalize.less` sets `[hidden] { display: none; }` but bootstrap.min.css set `[hidden] { display: none !important; }` so we also need the `!important` here to be able to override the default hidden behavior on the sphinx rendered scikit-learn.org. See: https://github.com/scikit-learn/scikit-learn/issues/21755 */display: inline-block !important;position: relative;}#sk-container-id-3 div.sk-text-repr-fallback {display: none;}</style><div id=\"sk-container-id-3\" class=\"sk-top-container\"><div class=\"sk-text-repr-fallback\"><pre>LGBMClassifier(n_estimators=10000)</pre><b>In a Jupyter environment, please rerun this cell to show the HTML representation or trust the notebook. <br />On GitHub, the HTML representation is unable to render, please try loading this page with nbviewer.org.</b></div><div class=\"sk-container\" hidden><div class=\"sk-item\"><div class=\"sk-estimator sk-toggleable\"><input class=\"sk-toggleable__control sk-hidden--visually\" id=\"sk-estimator-id-3\" type=\"checkbox\" checked><label for=\"sk-estimator-id-3\" class=\"sk-toggleable__label sk-toggleable__label-arrow\">LGBMClassifier</label><div class=\"sk-toggleable__content\"><pre>LGBMClassifier(n_estimators=10000)</pre></div></div></div></div></div>"
     },
     "execution_count": 22,
     "metadata": {},
     "output_type": "execute_result"
    }
   ],
   "source": [
    "import lightgbm as lgb\n",
    "lgb1 = lgb.LGBMClassifier(n_estimators=10000, max_depth = -1)\n",
    "lgb1.fit(X_train, y_train, eval_set = (X_test, y_test), early_stopping_rounds=20)"
   ]
  },
  {
   "cell_type": "code",
   "execution_count": 23,
   "id": "8297979e",
   "metadata": {
    "execution": {
     "iopub.execute_input": "2022-07-27T14:23:31.361177Z",
     "iopub.status.busy": "2022-07-27T14:23:31.360498Z",
     "iopub.status.idle": "2022-07-27T14:23:45.481603Z",
     "shell.execute_reply": "2022-07-27T14:23:45.480684Z"
    },
    "id": "rhXIqPTsBv8-",
    "papermill": {
     "duration": 14.146076,
     "end_time": "2022-07-27T14:23:45.484095",
     "exception": false,
     "start_time": "2022-07-27T14:23:31.338019",
     "status": "completed"
    },
    "tags": [],
    "pycharm": {
     "name": "#%%\n"
    }
   },
   "outputs": [],
   "source": [
    "pred = lgb1.predict(data)\n",
    "lgb_predictions = pd.DataFrame(np.c_[ids, pred])\n",
    "lgb_predictions.rename(columns={0: 'Id', 1: 'Predicted'}, inplace = True)"
   ]
  },
  {
   "cell_type": "code",
   "execution_count": 24,
   "id": "e16b8947",
   "metadata": {
    "execution": {
     "iopub.execute_input": "2022-07-27T14:23:45.530064Z",
     "iopub.status.busy": "2022-07-27T14:23:45.529679Z",
     "iopub.status.idle": "2022-07-27T14:23:45.844291Z",
     "shell.execute_reply": "2022-07-27T14:23:45.843498Z"
    },
    "id": "HGzvQ2Y4B34g",
    "outputId": "1c5a7146-02cf-4d5f-8317-bd5cf1ecfcb9",
    "papermill": {
     "duration": 0.340166,
     "end_time": "2022-07-27T14:23:45.846384",
     "exception": false,
     "start_time": "2022-07-27T14:23:45.506218",
     "status": "completed"
    },
    "tags": [],
    "pycharm": {
     "name": "#%%\n"
    }
   },
   "outputs": [
    {
     "data": {
      "text/plain": "<Figure size 1080x720 with 1 Axes>",
      "image/png": "[encoded data removed]"
     },
     "metadata": {},
     "output_type": "display_data"
    }
   ],
   "source": [
    "plt.figure(figsize = (15, 10))\n",
    "sns.histplot(lgb_predictions.Predicted)\n",
    "plt.show()"
   ]
  },
  {
   "cell_type": "code",
   "execution_count": 25,
   "id": "2c605669",
   "metadata": {
    "execution": {
     "iopub.execute_input": "2022-07-27T14:23:45.893282Z",
     "iopub.status.busy": "2022-07-27T14:23:45.892490Z",
     "iopub.status.idle": "2022-07-27T14:23:48.161867Z",
     "shell.execute_reply": "2022-07-27T14:23:48.160716Z"
    },
    "id": "Ci6e4jqoDzhT",
    "outputId": "3b6dd7ff-02f9-4124-c1a2-f9a44cdcff85",
    "papermill": {
     "duration": 2.295662,
     "end_time": "2022-07-27T14:23:48.164183",
     "exception": false,
     "start_time": "2022-07-27T14:23:45.868521",
     "status": "completed"
    },
    "tags": [],
    "pycharm": {
     "name": "#%%\n"
    }
   },
   "outputs": [
    {
     "data": {
      "text/plain": "0.9387856565782114"
     },
     "execution_count": 25,
     "metadata": {},
     "output_type": "execute_result"
    }
   ],
   "source": [
    "from sklearn.metrics import accuracy_score\n",
    "accuracy_score(lgb1.predict(X_test), y_test)"
   ]
  },
  {
   "cell_type": "code",
   "execution_count": 26,
   "id": "bb47cbf3",
   "metadata": {
    "execution": {
     "iopub.execute_input": "2022-07-27T14:23:48.211783Z",
     "iopub.status.busy": "2022-07-27T14:23:48.210656Z",
     "iopub.status.idle": "2022-07-27T14:23:49.095183Z",
     "shell.execute_reply": "2022-07-27T14:23:49.094003Z"
    },
    "id": "K0HcMwFoD34E",
    "outputId": "05606df2-34be-4c64-c807-c4f0a3c97cef",
    "papermill": {
     "duration": 0.911119,
     "end_time": "2022-07-27T14:23:49.097774",
     "exception": false,
     "start_time": "2022-07-27T14:23:48.186655",
     "status": "completed"
    },
    "tags": [],
    "pycharm": {
     "name": "#%%\n"
    }
   },
   "outputs": [
    {
     "data": {
      "text/plain": "<Figure size 1080x720 with 1 Axes>",
      "image/png": "[encoded data removed]"
     },
     "metadata": {},
     "output_type": "display_data"
    }
   ],
   "source": [
    "lgb.plot_importance(lgb1,figsize=(15, 10))\n",
    "plt.show()"
   ]
  },
  {
   "cell_type": "markdown",
   "id": "39fdbede",
   "metadata": {
    "papermill": {
     "duration": 0.02312,
     "end_time": "2022-07-27T14:23:49.144248",
     "exception": false,
     "start_time": "2022-07-27T14:23:49.121128",
     "status": "completed"
    },
    "tags": [],
    "pycharm": {
     "name": "#%% md\n"
    }
   },
   "source": [
    "# Select only the features the most important"
   ]
  },
  {
   "cell_type": "code",
   "execution_count": 27,
   "id": "9c7ac985",
   "metadata": {
    "execution": {
     "iopub.execute_input": "2022-07-27T14:23:49.192289Z",
     "iopub.status.busy": "2022-07-27T14:23:49.191352Z",
     "iopub.status.idle": "2022-07-27T14:23:49.213778Z",
     "shell.execute_reply": "2022-07-27T14:23:49.212942Z"
    },
    "id": "W42dI-87D7tS",
    "papermill": {
     "duration": 0.048926,
     "end_time": "2022-07-27T14:23:49.216080",
     "exception": false,
     "start_time": "2022-07-27T14:23:49.167154",
     "status": "completed"
    },
    "tags": [],
    "pycharm": {
     "name": "#%%\n"
    }
   },
   "outputs": [],
   "source": [
    "useless_columns = [i for i in range(lgb1.feature_importances_.shape[0])\n",
    "       if lgb1.feature_importances_[i] < 7000]"
   ]
  },
  {
   "cell_type": "code",
   "execution_count": 28,
   "id": "be06ede7",
   "metadata": {
    "execution": {
     "iopub.execute_input": "2022-07-27T14:23:49.264749Z",
     "iopub.status.busy": "2022-07-27T14:23:49.264358Z",
     "iopub.status.idle": "2022-07-27T14:23:49.270136Z",
     "shell.execute_reply": "2022-07-27T14:23:49.269066Z"
    },
    "id": "vOzPpAyZEHEG",
    "papermill": {
     "duration": 0.032874,
     "end_time": "2022-07-27T14:23:49.272172",
     "exception": false,
     "start_time": "2022-07-27T14:23:49.239298",
     "status": "completed"
    },
    "tags": [],
    "pycharm": {
     "name": "#%%\n"
    }
   },
   "outputs": [],
   "source": [
    "data = np.delete(data, useless_columns, axis = 1)"
   ]
  },
  {
   "cell_type": "code",
   "execution_count": 29,
   "id": "007e4ed3",
   "metadata": {
    "execution": {
     "iopub.execute_input": "2022-07-27T14:23:49.320915Z",
     "iopub.status.busy": "2022-07-27T14:23:49.320166Z",
     "iopub.status.idle": "2022-07-27T14:23:49.331893Z",
     "shell.execute_reply": "2022-07-27T14:23:49.331064Z"
    },
    "id": "dwKBbxckEjcZ",
    "papermill": {
     "duration": 0.038719,
     "end_time": "2022-07-27T14:23:49.334113",
     "exception": false,
     "start_time": "2022-07-27T14:23:49.295394",
     "status": "completed"
    },
    "tags": [],
    "pycharm": {
     "name": "#%%\n"
    }
   },
   "outputs": [],
   "source": [
    "X_train = np.delete(X_train, useless_columns, axis = 1)"
   ]
  },
  {
   "cell_type": "code",
   "execution_count": 30,
   "id": "577c091e",
   "metadata": {
    "execution": {
     "iopub.execute_input": "2022-07-27T14:23:49.382280Z",
     "iopub.status.busy": "2022-07-27T14:23:49.381542Z",
     "iopub.status.idle": "2022-07-27T14:23:49.386999Z",
     "shell.execute_reply": "2022-07-27T14:23:49.386290Z"
    },
    "id": "VW1c3K53EwZS",
    "papermill": {
     "duration": 0.031789,
     "end_time": "2022-07-27T14:23:49.389005",
     "exception": false,
     "start_time": "2022-07-27T14:23:49.357216",
     "status": "completed"
    },
    "tags": [],
    "pycharm": {
     "name": "#%%\n"
    }
   },
   "outputs": [],
   "source": [
    "X_test = np.delete(X_test, useless_columns, axis = 1)"
   ]
  },
  {
   "cell_type": "code",
   "execution_count": 31,
   "id": "cd4977eb",
   "metadata": {
    "execution": {
     "iopub.execute_input": "2022-07-27T14:23:49.437446Z",
     "iopub.status.busy": "2022-07-27T14:23:49.436711Z",
     "iopub.status.idle": "2022-07-27T14:24:47.268486Z",
     "shell.execute_reply": "2022-07-27T14:24:47.267296Z"
    },
    "id": "InIuaKLLETly",
    "outputId": "7364e5ea-e330-48d3-b053-513e5007a77f",
    "papermill": {
     "duration": 57.904783,
     "end_time": "2022-07-27T14:24:47.316969",
     "exception": false,
     "start_time": "2022-07-27T14:23:49.412186",
     "status": "completed"
    },
    "tags": [],
    "pycharm": {
     "name": "#%%\n"
    }
   },
   "outputs": [
    {
     "data": {
      "text/plain": "BayesianGaussianMixture(max_iter=1000, n_components=7)",
      "text/html": "<style>#sk-container-id-4 {color: black;background-color: white;}#sk-container-id-4 pre{padding: 0;}#sk-container-id-4 div.sk-toggleable {background-color: white;}#sk-container-id-4 label.sk-toggleable__label {cursor: pointer;display: block;width: 100%;margin-bottom: 0;padding: 0.3em;box-sizing: border-box;text-align: center;}#sk-container-id-4 label.sk-toggleable__label-arrow:before {content: \"▸\";float: left;margin-right: 0.25em;color: #696969;}#sk-container-id-4 label.sk-toggleable__label-arrow:hover:before {color: black;}#sk-container-id-4 div.sk-estimator:hover label.sk-toggleable__label-arrow:before {color: black;}#sk-container-id-4 div.sk-toggleable__content {max-height: 0;max-width: 0;overflow: hidden;text-align: left;background-color: #f0f8ff;}#sk-container-id-4 div.sk-toggleable__content pre {margin: 0.2em;color: black;border-radius: 0.25em;background-color: #f0f8ff;}#sk-container-id-4 input.sk-toggleable__control:checked~div.sk-toggleable__content {max-height: 200px;max-width: 100%;overflow: auto;}#sk-container-id-4 input.sk-toggleable__control:checked~label.sk-toggleable__label-arrow:before {content: \"▾\";}#sk-container-id-4 div.sk-estimator input.sk-toggleable__control:checked~label.sk-toggleable__label {background-color: #d4ebff;}#sk-container-id-4 div.sk-label input.sk-toggleable__control:checked~label.sk-toggleable__label {background-color: #d4ebff;}#sk-container-id-4 input.sk-hidden--visually {border: 0;clip: rect(1px 1px 1px 1px);clip: rect(1px, 1px, 1px, 1px);height: 1px;margin: -1px;overflow: hidden;padding: 0;position: absolute;width: 1px;}#sk-container-id-4 div.sk-estimator {font-family: monospace;background-color: #f0f8ff;border: 1px dotted black;border-radius: 0.25em;box-sizing: border-box;margin-bottom: 0.5em;}#sk-container-id-4 div.sk-estimator:hover {background-color: #d4ebff;}#sk-container-id-4 div.sk-parallel-item::after {content: \"\";width: 100%;border-bottom: 1px solid gray;flex-grow: 1;}#sk-container-id-4 div.sk-label:hover label.sk-toggleable__label {background-color: #d4ebff;}#sk-container-id-4 div.sk-serial::before {content: \"\";position: absolute;border-left: 1px solid gray;box-sizing: border-box;top: 0;bottom: 0;left: 50%;z-index: 0;}#sk-container-id-4 div.sk-serial {display: flex;flex-direction: column;align-items: center;background-color: white;padding-right: 0.2em;padding-left: 0.2em;position: relative;}#sk-container-id-4 div.sk-item {position: relative;z-index: 1;}#sk-container-id-4 div.sk-parallel {display: flex;align-items: stretch;justify-content: center;background-color: white;position: relative;}#sk-container-id-4 div.sk-item::before, #sk-container-id-4 div.sk-parallel-item::before {content: \"\";position: absolute;border-left: 1px solid gray;box-sizing: border-box;top: 0;bottom: 0;left: 50%;z-index: -1;}#sk-container-id-4 div.sk-parallel-item {display: flex;flex-direction: column;z-index: 1;position: relative;background-color: white;}#sk-container-id-4 div.sk-parallel-item:first-child::after {align-self: flex-end;width: 50%;}#sk-container-id-4 div.sk-parallel-item:last-child::after {align-self: flex-start;width: 50%;}#sk-container-id-4 div.sk-parallel-item:only-child::after {width: 0;}#sk-container-id-4 div.sk-dashed-wrapped {border: 1px dashed gray;margin: 0 0.4em 0.5em 0.4em;box-sizing: border-box;padding-bottom: 0.4em;background-color: white;}#sk-container-id-4 div.sk-label label {font-family: monospace;font-weight: bold;display: inline-block;line-height: 1.2em;}#sk-container-id-4 div.sk-label-container {text-align: center;}#sk-container-id-4 div.sk-container {/* jupyter's `normalize.less` sets `[hidden] { display: none; }` but bootstrap.min.css set `[hidden] { display: none !important; }` so we also need the `!important` here to be able to override the default hidden behavior on the sphinx rendered scikit-learn.org. See: https://github.com/scikit-learn/scikit-learn/issues/21755 */display: inline-block !important;position: relative;}#sk-container-id-4 div.sk-text-repr-fallback {display: none;}</style><div id=\"sk-container-id-4\" class=\"sk-top-container\"><div class=\"sk-text-repr-fallback\"><pre>BayesianGaussianMixture(max_iter=1000, n_components=7)</pre><b>In a Jupyter environment, please rerun this cell to show the HTML representation or trust the notebook. <br />On GitHub, the HTML representation is unable to render, please try loading this page with nbviewer.org.</b></div><div class=\"sk-container\" hidden><div class=\"sk-item\"><div class=\"sk-estimator sk-toggleable\"><input class=\"sk-toggleable__control sk-hidden--visually\" id=\"sk-estimator-id-4\" type=\"checkbox\" checked><label for=\"sk-estimator-id-4\" class=\"sk-toggleable__label sk-toggleable__label-arrow\">BayesianGaussianMixture</label><div class=\"sk-toggleable__content\"><pre>BayesianGaussianMixture(max_iter=1000, n_components=7)</pre></div></div></div></div></div>"
     },
     "execution_count": 31,
     "metadata": {},
     "output_type": "execute_result"
    }
   ],
   "source": [
    "from sklearn.mixture import BayesianGaussianMixture\n",
    "bgm = BayesianGaussianMixture(n_components=7, max_iter = 1000)\n",
    "bgm.fit(data)"
   ]
  },
  {
   "cell_type": "code",
   "execution_count": 32,
   "id": "d235d352",
   "metadata": {
    "execution": {
     "iopub.execute_input": "2022-07-27T14:24:47.366465Z",
     "iopub.status.busy": "2022-07-27T14:24:47.365317Z",
     "iopub.status.idle": "2022-07-27T14:24:47.606878Z",
     "shell.execute_reply": "2022-07-27T14:24:47.606027Z"
    },
    "id": "wOd4xItKhYBb",
    "papermill": {
     "duration": 0.268679,
     "end_time": "2022-07-27T14:24:47.609218",
     "exception": false,
     "start_time": "2022-07-27T14:24:47.340539",
     "status": "completed"
    },
    "tags": [],
    "pycharm": {
     "name": "#%%\n"
    }
   },
   "outputs": [],
   "source": [
    "pred = bgm.predict(data)\n",
    "bgmm_predictions = pd.DataFrame(np.c_[ids, pred])\n",
    "bgmm_predictions.rename(columns={0: 'Id', 1: 'Predicted'}, inplace = True)\n",
    "bgmm_predictions.to_csv('sub.csv', index = False)"
   ]
  },
  {
   "cell_type": "code",
   "execution_count": 33,
   "id": "b3bc42e2",
   "metadata": {
    "execution": {
     "iopub.execute_input": "2022-07-27T14:24:47.658457Z",
     "iopub.status.busy": "2022-07-27T14:24:47.657706Z",
     "iopub.status.idle": "2022-07-27T14:24:47.973331Z",
     "shell.execute_reply": "2022-07-27T14:24:47.972209Z"
    },
    "id": "anh-mF2shda_",
    "outputId": "72990abf-3bf4-49bd-c04e-22470d3b8d3a",
    "papermill": {
     "duration": 0.34299,
     "end_time": "2022-07-27T14:24:47.975920",
     "exception": false,
     "start_time": "2022-07-27T14:24:47.632930",
     "status": "completed"
    },
    "tags": [],
    "pycharm": {
     "name": "#%%\n"
    }
   },
   "outputs": [
    {
     "data": {
      "text/plain": "<Figure size 1080x720 with 1 Axes>",
      "image/png": "[encoded data removed]"
     },
     "metadata": {},
     "output_type": "display_data"
    }
   ],
   "source": [
    "plt.figure(figsize = (15, 10))\n",
    "sns.histplot(bgmm_predictions.Predicted)\n",
    "plt.show()"
   ]
  }
 ],
 "metadata": {
  "kernelspec": {
   "display_name": "Python 3",
   "language": "python",
   "name": "python3"
  },
  "language_info": {
   "codemirror_mode": {
    "name": "ipython",
    "version": 3
   },
   "file_extension": ".py",
   "mimetype": "text/x-python",
   "name": "python",
   "nbconvert_exporter": "python",
   "pygments_lexer": "ipython3",
   "version": "3.7.12"
  },
  "papermill": {
   "default_parameters": {},
   "duration": 1105.012722,
   "end_time": "2022-07-27T14:24:48.870321",
   "environment_variables": {},
   "exception": null,
   "input_path": "__notebook__.ipynb",
   "output_path": "__notebook__.ipynb",
   "parameters": {},
   "start_time": "2022-07-27T14:06:23.857599",
   "version": "2.3.4"
  }
 },
 "nbformat": 4,
 "nbformat_minor": 5
}